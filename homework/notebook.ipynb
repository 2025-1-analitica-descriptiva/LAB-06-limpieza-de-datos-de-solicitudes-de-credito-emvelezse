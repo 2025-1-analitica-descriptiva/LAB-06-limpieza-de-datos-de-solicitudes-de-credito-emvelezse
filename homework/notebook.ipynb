{
 "cells": [
  {
   "cell_type": "markdown",
   "id": "52373f6a",
   "metadata": {},
   "source": [
    "# Limpieza"
   ]
  },
  {
   "cell_type": "code",
   "execution_count": 1,
   "id": "88f90096",
   "metadata": {},
   "outputs": [],
   "source": [
    "import pandas as pd\n",
    "df = pd.read_csv(\"../files/input/solicitudes_de_credito.csv\", sep=\";\")"
   ]
  },
  {
   "cell_type": "code",
   "execution_count": 2,
   "id": "4441dae8",
   "metadata": {},
   "outputs": [
    {
     "data": {
      "application/vnd.microsoft.datawrangler.viewer.v0+json": {
       "columns": [
        {
         "name": "index",
         "rawType": "int64",
         "type": "integer"
        },
        {
         "name": "Unnamed: 0",
         "rawType": "int64",
         "type": "integer"
        },
        {
         "name": "sexo",
         "rawType": "object",
         "type": "string"
        },
        {
         "name": "tipo_de_emprendimiento",
         "rawType": "object",
         "type": "string"
        },
        {
         "name": "idea_negocio",
         "rawType": "object",
         "type": "string"
        },
        {
         "name": "barrio",
         "rawType": "object",
         "type": "string"
        },
        {
         "name": "estrato",
         "rawType": "int64",
         "type": "integer"
        },
        {
         "name": "comuna_ciudadano",
         "rawType": "float64",
         "type": "float"
        },
        {
         "name": "fecha_de_beneficio",
         "rawType": "object",
         "type": "string"
        },
        {
         "name": "monto_del_credito",
         "rawType": "object",
         "type": "string"
        },
        {
         "name": "línea_credito",
         "rawType": "object",
         "type": "string"
        }
       ],
       "ref": "17e8da17-d397-4158-8ba0-654ced0fb392",
       "rows": [
        [
         "0",
         "0",
         "masculino",
         "comercio",
         "fabrica de ",
         "prado",
         "3",
         "10.0",
         "13/07/2018",
         "5000000",
         "microempresarial"
        ],
        [
         "1",
         "1",
         "femenino",
         "servicio",
         "recreativo-educativo",
         "barrio caicedo",
         "1",
         "9.0",
         "30/10/2017",
         "6000000",
         "microempresarial"
        ],
        [
         "2",
         "2",
         "femenino",
         "comercio",
         "tienda",
         "aranjuez",
         "2",
         "4.0",
         "3/08/2017",
         "7300000",
         "microempresarial"
        ],
        [
         "3",
         "3",
         "Masculino",
         "comercio",
         "variedades",
         "cabecera san cristobal",
         "3",
         "60.0",
         "20/11/2017",
         "7000000",
         "microempresarial"
        ],
        [
         "4",
         "4",
         "femenino",
         "comercio",
         "fabrica de ",
         "robledo",
         "2",
         "7.0",
         "23/02/2017",
         "5000000",
         "microempresarial"
        ]
       ],
       "shape": {
        "columns": 10,
        "rows": 5
       }
      },
      "text/html": [
       "<div>\n",
       "<style scoped>\n",
       "    .dataframe tbody tr th:only-of-type {\n",
       "        vertical-align: middle;\n",
       "    }\n",
       "\n",
       "    .dataframe tbody tr th {\n",
       "        vertical-align: top;\n",
       "    }\n",
       "\n",
       "    .dataframe thead th {\n",
       "        text-align: right;\n",
       "    }\n",
       "</style>\n",
       "<table border=\"1\" class=\"dataframe\">\n",
       "  <thead>\n",
       "    <tr style=\"text-align: right;\">\n",
       "      <th></th>\n",
       "      <th>Unnamed: 0</th>\n",
       "      <th>sexo</th>\n",
       "      <th>tipo_de_emprendimiento</th>\n",
       "      <th>idea_negocio</th>\n",
       "      <th>barrio</th>\n",
       "      <th>estrato</th>\n",
       "      <th>comuna_ciudadano</th>\n",
       "      <th>fecha_de_beneficio</th>\n",
       "      <th>monto_del_credito</th>\n",
       "      <th>línea_credito</th>\n",
       "    </tr>\n",
       "  </thead>\n",
       "  <tbody>\n",
       "    <tr>\n",
       "      <th>0</th>\n",
       "      <td>0</td>\n",
       "      <td>masculino</td>\n",
       "      <td>comercio</td>\n",
       "      <td>fabrica de</td>\n",
       "      <td>prado</td>\n",
       "      <td>3</td>\n",
       "      <td>10.0</td>\n",
       "      <td>13/07/2018</td>\n",
       "      <td>5000000</td>\n",
       "      <td>microempresarial</td>\n",
       "    </tr>\n",
       "    <tr>\n",
       "      <th>1</th>\n",
       "      <td>1</td>\n",
       "      <td>femenino</td>\n",
       "      <td>servicio</td>\n",
       "      <td>recreativo-educativo</td>\n",
       "      <td>barrio caicedo</td>\n",
       "      <td>1</td>\n",
       "      <td>9.0</td>\n",
       "      <td>30/10/2017</td>\n",
       "      <td>6000000</td>\n",
       "      <td>microempresarial</td>\n",
       "    </tr>\n",
       "    <tr>\n",
       "      <th>2</th>\n",
       "      <td>2</td>\n",
       "      <td>femenino</td>\n",
       "      <td>comercio</td>\n",
       "      <td>tienda</td>\n",
       "      <td>aranjuez</td>\n",
       "      <td>2</td>\n",
       "      <td>4.0</td>\n",
       "      <td>3/08/2017</td>\n",
       "      <td>7300000</td>\n",
       "      <td>microempresarial</td>\n",
       "    </tr>\n",
       "    <tr>\n",
       "      <th>3</th>\n",
       "      <td>3</td>\n",
       "      <td>Masculino</td>\n",
       "      <td>comercio</td>\n",
       "      <td>variedades</td>\n",
       "      <td>cabecera san cristobal</td>\n",
       "      <td>3</td>\n",
       "      <td>60.0</td>\n",
       "      <td>20/11/2017</td>\n",
       "      <td>7000000</td>\n",
       "      <td>microempresarial</td>\n",
       "    </tr>\n",
       "    <tr>\n",
       "      <th>4</th>\n",
       "      <td>4</td>\n",
       "      <td>femenino</td>\n",
       "      <td>comercio</td>\n",
       "      <td>fabrica de</td>\n",
       "      <td>robledo</td>\n",
       "      <td>2</td>\n",
       "      <td>7.0</td>\n",
       "      <td>23/02/2017</td>\n",
       "      <td>5000000</td>\n",
       "      <td>microempresarial</td>\n",
       "    </tr>\n",
       "  </tbody>\n",
       "</table>\n",
       "</div>"
      ],
      "text/plain": [
       "   Unnamed: 0       sexo tipo_de_emprendimiento          idea_negocio  \\\n",
       "0           0  masculino               comercio           fabrica de    \n",
       "1           1   femenino               servicio  recreativo-educativo   \n",
       "2           2   femenino               comercio                tienda   \n",
       "3           3  Masculino               comercio            variedades   \n",
       "4           4   femenino               comercio           fabrica de    \n",
       "\n",
       "                   barrio  estrato  comuna_ciudadano fecha_de_beneficio  \\\n",
       "0                   prado        3              10.0         13/07/2018   \n",
       "1          barrio caicedo        1               9.0         30/10/2017   \n",
       "2                aranjuez        2               4.0          3/08/2017   \n",
       "3  cabecera san cristobal        3              60.0         20/11/2017   \n",
       "4                 robledo        2               7.0         23/02/2017   \n",
       "\n",
       "  monto_del_credito     línea_credito  \n",
       "0           5000000  microempresarial  \n",
       "1           6000000  microempresarial  \n",
       "2           7300000  microempresarial  \n",
       "3           7000000  microempresarial  \n",
       "4           5000000  microempresarial  "
      ]
     },
     "execution_count": 2,
     "metadata": {},
     "output_type": "execute_result"
    }
   ],
   "source": [
    "df.head()"
   ]
  },
  {
   "cell_type": "code",
   "execution_count": 3,
   "id": "2662d510",
   "metadata": {},
   "outputs": [
    {
     "data": {
      "text/plain": [
       "Index(['Unnamed: 0', 'sexo', 'tipo_de_emprendimiento', 'idea_negocio',\n",
       "       'barrio', 'estrato', 'comuna_ciudadano', 'fecha_de_beneficio',\n",
       "       'monto_del_credito', 'línea_credito'],\n",
       "      dtype='object')"
      ]
     },
     "execution_count": 3,
     "metadata": {},
     "output_type": "execute_result"
    }
   ],
   "source": [
    "df.columns"
   ]
  },
  {
   "cell_type": "code",
   "execution_count": 4,
   "id": "5667f69c",
   "metadata": {},
   "outputs": [],
   "source": [
    "df = df.drop(columns=['Unnamed: 0'])"
   ]
  },
  {
   "cell_type": "code",
   "execution_count": 5,
   "id": "d58d93e8",
   "metadata": {},
   "outputs": [
    {
     "name": "stdout",
     "output_type": "stream",
     "text": [
      "Total de filas duplicadas: 241\n"
     ]
    }
   ],
   "source": [
    "duplicados = df.duplicated()\n",
    "print(f\"Total de filas duplicadas: {duplicados.sum()}\")"
   ]
  },
  {
   "cell_type": "code",
   "execution_count": 6,
   "id": "47f19212",
   "metadata": {},
   "outputs": [],
   "source": [
    "# df = df.drop_duplicates()"
   ]
  },
  {
   "cell_type": "code",
   "execution_count": 7,
   "id": "0c8049d0",
   "metadata": {},
   "outputs": [
    {
     "data": {
      "application/vnd.microsoft.datawrangler.viewer.v0+json": {
       "columns": [
        {
         "name": "index",
         "rawType": "object",
         "type": "string"
        },
        {
         "name": "0",
         "rawType": "int64",
         "type": "integer"
        }
       ],
       "ref": "7ea9ba7d-c641-4457-9480-92582c22bdfd",
       "rows": [
        [
         "sexo",
         "0"
        ],
        [
         "tipo_de_emprendimiento",
         "102"
        ],
        [
         "idea_negocio",
         "0"
        ],
        [
         "barrio",
         "102"
        ],
        [
         "estrato",
         "0"
        ],
        [
         "comuna_ciudadano",
         "0"
        ],
        [
         "fecha_de_beneficio",
         "0"
        ],
        [
         "monto_del_credito",
         "0"
        ],
        [
         "línea_credito",
         "0"
        ]
       ],
       "shape": {
        "columns": 1,
        "rows": 9
       }
      },
      "text/plain": [
       "sexo                        0\n",
       "tipo_de_emprendimiento    102\n",
       "idea_negocio                0\n",
       "barrio                    102\n",
       "estrato                     0\n",
       "comuna_ciudadano            0\n",
       "fecha_de_beneficio          0\n",
       "monto_del_credito           0\n",
       "línea_credito               0\n",
       "dtype: int64"
      ]
     },
     "execution_count": 7,
     "metadata": {},
     "output_type": "execute_result"
    }
   ],
   "source": [
    "df.isnull().sum()"
   ]
  },
  {
   "cell_type": "code",
   "execution_count": 8,
   "id": "4b25315b",
   "metadata": {},
   "outputs": [
    {
     "data": {
      "application/vnd.microsoft.datawrangler.viewer.v0+json": {
       "columns": [
        {
         "name": "index",
         "rawType": "object",
         "type": "string"
        },
        {
         "name": "0",
         "rawType": "int64",
         "type": "integer"
        }
       ],
       "ref": "3f10e11e-5ec4-437a-82e2-1ffe35762844",
       "rows": [
        [
         "sexo",
         "0"
        ],
        [
         "tipo_de_emprendimiento",
         "0"
        ],
        [
         "idea_negocio",
         "0"
        ],
        [
         "barrio",
         "0"
        ],
        [
         "estrato",
         "0"
        ],
        [
         "comuna_ciudadano",
         "0"
        ],
        [
         "fecha_de_beneficio",
         "0"
        ],
        [
         "monto_del_credito",
         "0"
        ],
        [
         "línea_credito",
         "0"
        ]
       ],
       "shape": {
        "columns": 1,
        "rows": 9
       }
      },
      "text/plain": [
       "sexo                      0\n",
       "tipo_de_emprendimiento    0\n",
       "idea_negocio              0\n",
       "barrio                    0\n",
       "estrato                   0\n",
       "comuna_ciudadano          0\n",
       "fecha_de_beneficio        0\n",
       "monto_del_credito         0\n",
       "línea_credito             0\n",
       "dtype: int64"
      ]
     },
     "execution_count": 8,
     "metadata": {},
     "output_type": "execute_result"
    }
   ],
   "source": [
    "df = df.dropna()\n",
    "df.isnull().sum()"
   ]
  },
  {
   "cell_type": "code",
   "execution_count": 9,
   "id": "8c611e87",
   "metadata": {},
   "outputs": [
    {
     "data": {
      "application/vnd.microsoft.datawrangler.viewer.v0+json": {
       "columns": [
        {
         "name": "index",
         "rawType": "int64",
         "type": "integer"
        },
        {
         "name": "sexo",
         "rawType": "object",
         "type": "string"
        },
        {
         "name": "tipo_de_emprendimiento",
         "rawType": "object",
         "type": "string"
        },
        {
         "name": "idea_negocio",
         "rawType": "object",
         "type": "string"
        },
        {
         "name": "barrio",
         "rawType": "object",
         "type": "string"
        },
        {
         "name": "estrato",
         "rawType": "int64",
         "type": "integer"
        },
        {
         "name": "comuna_ciudadano",
         "rawType": "float64",
         "type": "float"
        },
        {
         "name": "fecha_de_beneficio",
         "rawType": "object",
         "type": "string"
        },
        {
         "name": "monto_del_credito",
         "rawType": "object",
         "type": "string"
        },
        {
         "name": "línea_credito",
         "rawType": "object",
         "type": "string"
        }
       ],
       "ref": "56c4b60b-2b31-495e-b8c5-bb8511dceea2",
       "rows": [
        [
         "0",
         "masculino",
         "comercio",
         "fabrica de ",
         "prado",
         "3",
         "10.0",
         "13/07/2018",
         "5000000",
         "microempresarial"
        ],
        [
         "1",
         "femenino",
         "servicio",
         "recreativo-educativo",
         "barrio caicedo",
         "1",
         "9.0",
         "30/10/2017",
         "6000000",
         "microempresarial"
        ],
        [
         "2",
         "femenino",
         "comercio",
         "tienda",
         "aranjuez",
         "2",
         "4.0",
         "3/08/2017",
         "7300000",
         "microempresarial"
        ],
        [
         "3",
         "Masculino",
         "comercio",
         "variedades",
         "cabecera san cristobal",
         "3",
         "60.0",
         "20/11/2017",
         "7000000",
         "microempresarial"
        ],
        [
         "4",
         "femenino",
         "comercio",
         "fabrica de ",
         "robledo",
         "2",
         "7.0",
         "23/02/2017",
         "5000000",
         "microempresarial"
        ]
       ],
       "shape": {
        "columns": 9,
        "rows": 5
       }
      },
      "text/html": [
       "<div>\n",
       "<style scoped>\n",
       "    .dataframe tbody tr th:only-of-type {\n",
       "        vertical-align: middle;\n",
       "    }\n",
       "\n",
       "    .dataframe tbody tr th {\n",
       "        vertical-align: top;\n",
       "    }\n",
       "\n",
       "    .dataframe thead th {\n",
       "        text-align: right;\n",
       "    }\n",
       "</style>\n",
       "<table border=\"1\" class=\"dataframe\">\n",
       "  <thead>\n",
       "    <tr style=\"text-align: right;\">\n",
       "      <th></th>\n",
       "      <th>sexo</th>\n",
       "      <th>tipo_de_emprendimiento</th>\n",
       "      <th>idea_negocio</th>\n",
       "      <th>barrio</th>\n",
       "      <th>estrato</th>\n",
       "      <th>comuna_ciudadano</th>\n",
       "      <th>fecha_de_beneficio</th>\n",
       "      <th>monto_del_credito</th>\n",
       "      <th>línea_credito</th>\n",
       "    </tr>\n",
       "  </thead>\n",
       "  <tbody>\n",
       "    <tr>\n",
       "      <th>0</th>\n",
       "      <td>masculino</td>\n",
       "      <td>comercio</td>\n",
       "      <td>fabrica de</td>\n",
       "      <td>prado</td>\n",
       "      <td>3</td>\n",
       "      <td>10.0</td>\n",
       "      <td>13/07/2018</td>\n",
       "      <td>5000000</td>\n",
       "      <td>microempresarial</td>\n",
       "    </tr>\n",
       "    <tr>\n",
       "      <th>1</th>\n",
       "      <td>femenino</td>\n",
       "      <td>servicio</td>\n",
       "      <td>recreativo-educativo</td>\n",
       "      <td>barrio caicedo</td>\n",
       "      <td>1</td>\n",
       "      <td>9.0</td>\n",
       "      <td>30/10/2017</td>\n",
       "      <td>6000000</td>\n",
       "      <td>microempresarial</td>\n",
       "    </tr>\n",
       "    <tr>\n",
       "      <th>2</th>\n",
       "      <td>femenino</td>\n",
       "      <td>comercio</td>\n",
       "      <td>tienda</td>\n",
       "      <td>aranjuez</td>\n",
       "      <td>2</td>\n",
       "      <td>4.0</td>\n",
       "      <td>3/08/2017</td>\n",
       "      <td>7300000</td>\n",
       "      <td>microempresarial</td>\n",
       "    </tr>\n",
       "    <tr>\n",
       "      <th>3</th>\n",
       "      <td>Masculino</td>\n",
       "      <td>comercio</td>\n",
       "      <td>variedades</td>\n",
       "      <td>cabecera san cristobal</td>\n",
       "      <td>3</td>\n",
       "      <td>60.0</td>\n",
       "      <td>20/11/2017</td>\n",
       "      <td>7000000</td>\n",
       "      <td>microempresarial</td>\n",
       "    </tr>\n",
       "    <tr>\n",
       "      <th>4</th>\n",
       "      <td>femenino</td>\n",
       "      <td>comercio</td>\n",
       "      <td>fabrica de</td>\n",
       "      <td>robledo</td>\n",
       "      <td>2</td>\n",
       "      <td>7.0</td>\n",
       "      <td>23/02/2017</td>\n",
       "      <td>5000000</td>\n",
       "      <td>microempresarial</td>\n",
       "    </tr>\n",
       "  </tbody>\n",
       "</table>\n",
       "</div>"
      ],
      "text/plain": [
       "        sexo tipo_de_emprendimiento          idea_negocio  \\\n",
       "0  masculino               comercio           fabrica de    \n",
       "1   femenino               servicio  recreativo-educativo   \n",
       "2   femenino               comercio                tienda   \n",
       "3  Masculino               comercio            variedades   \n",
       "4   femenino               comercio           fabrica de    \n",
       "\n",
       "                   barrio  estrato  comuna_ciudadano fecha_de_beneficio  \\\n",
       "0                   prado        3              10.0         13/07/2018   \n",
       "1          barrio caicedo        1               9.0         30/10/2017   \n",
       "2                aranjuez        2               4.0          3/08/2017   \n",
       "3  cabecera san cristobal        3              60.0         20/11/2017   \n",
       "4                 robledo        2               7.0         23/02/2017   \n",
       "\n",
       "  monto_del_credito     línea_credito  \n",
       "0           5000000  microempresarial  \n",
       "1           6000000  microempresarial  \n",
       "2           7300000  microempresarial  \n",
       "3           7000000  microempresarial  \n",
       "4           5000000  microempresarial  "
      ]
     },
     "execution_count": 9,
     "metadata": {},
     "output_type": "execute_result"
    }
   ],
   "source": [
    "df.head()"
   ]
  },
  {
   "cell_type": "markdown",
   "id": "6aacb45a",
   "metadata": {},
   "source": [
    "## comuna_ciudadano"
   ]
  },
  {
   "cell_type": "code",
   "execution_count": 10,
   "id": "ee9e216a",
   "metadata": {},
   "outputs": [
    {
     "data": {
      "text/plain": [
       "(10716, 9)"
      ]
     },
     "execution_count": 10,
     "metadata": {},
     "output_type": "execute_result"
    }
   ],
   "source": [
    "df.shape"
   ]
  },
  {
   "cell_type": "code",
   "execution_count": 11,
   "id": "20c957f1",
   "metadata": {},
   "outputs": [
    {
     "data": {
      "application/vnd.microsoft.datawrangler.viewer.v0+json": {
       "columns": [
        {
         "name": "index",
         "rawType": "int64",
         "type": "integer"
        },
        {
         "name": "sexo",
         "rawType": "object",
         "type": "string"
        },
        {
         "name": "tipo_de_emprendimiento",
         "rawType": "object",
         "type": "string"
        },
        {
         "name": "idea_negocio",
         "rawType": "object",
         "type": "string"
        },
        {
         "name": "barrio",
         "rawType": "object",
         "type": "string"
        },
        {
         "name": "estrato",
         "rawType": "int64",
         "type": "integer"
        },
        {
         "name": "comuna_ciudadano",
         "rawType": "int64",
         "type": "integer"
        },
        {
         "name": "fecha_de_beneficio",
         "rawType": "object",
         "type": "string"
        },
        {
         "name": "monto_del_credito",
         "rawType": "object",
         "type": "string"
        },
        {
         "name": "línea_credito",
         "rawType": "object",
         "type": "string"
        }
       ],
       "ref": "9551e689-ea02-4591-8519-734bbc27b6fc",
       "rows": [
        [
         "0",
         "masculino",
         "comercio",
         "fabrica de ",
         "prado",
         "3",
         "10",
         "13/07/2018",
         "5000000",
         "microempresarial"
        ],
        [
         "1",
         "femenino",
         "servicio",
         "recreativo-educativo",
         "barrio caicedo",
         "1",
         "9",
         "30/10/2017",
         "6000000",
         "microempresarial"
        ],
        [
         "2",
         "femenino",
         "comercio",
         "tienda",
         "aranjuez",
         "2",
         "4",
         "3/08/2017",
         "7300000",
         "microempresarial"
        ],
        [
         "3",
         "Masculino",
         "comercio",
         "variedades",
         "cabecera san cristobal",
         "3",
         "60",
         "20/11/2017",
         "7000000",
         "microempresarial"
        ],
        [
         "4",
         "femenino",
         "comercio",
         "fabrica de ",
         "robledo",
         "2",
         "7",
         "23/02/2017",
         "5000000",
         "microempresarial"
        ]
       ],
       "shape": {
        "columns": 9,
        "rows": 5
       }
      },
      "text/html": [
       "<div>\n",
       "<style scoped>\n",
       "    .dataframe tbody tr th:only-of-type {\n",
       "        vertical-align: middle;\n",
       "    }\n",
       "\n",
       "    .dataframe tbody tr th {\n",
       "        vertical-align: top;\n",
       "    }\n",
       "\n",
       "    .dataframe thead th {\n",
       "        text-align: right;\n",
       "    }\n",
       "</style>\n",
       "<table border=\"1\" class=\"dataframe\">\n",
       "  <thead>\n",
       "    <tr style=\"text-align: right;\">\n",
       "      <th></th>\n",
       "      <th>sexo</th>\n",
       "      <th>tipo_de_emprendimiento</th>\n",
       "      <th>idea_negocio</th>\n",
       "      <th>barrio</th>\n",
       "      <th>estrato</th>\n",
       "      <th>comuna_ciudadano</th>\n",
       "      <th>fecha_de_beneficio</th>\n",
       "      <th>monto_del_credito</th>\n",
       "      <th>línea_credito</th>\n",
       "    </tr>\n",
       "  </thead>\n",
       "  <tbody>\n",
       "    <tr>\n",
       "      <th>0</th>\n",
       "      <td>masculino</td>\n",
       "      <td>comercio</td>\n",
       "      <td>fabrica de</td>\n",
       "      <td>prado</td>\n",
       "      <td>3</td>\n",
       "      <td>10</td>\n",
       "      <td>13/07/2018</td>\n",
       "      <td>5000000</td>\n",
       "      <td>microempresarial</td>\n",
       "    </tr>\n",
       "    <tr>\n",
       "      <th>1</th>\n",
       "      <td>femenino</td>\n",
       "      <td>servicio</td>\n",
       "      <td>recreativo-educativo</td>\n",
       "      <td>barrio caicedo</td>\n",
       "      <td>1</td>\n",
       "      <td>9</td>\n",
       "      <td>30/10/2017</td>\n",
       "      <td>6000000</td>\n",
       "      <td>microempresarial</td>\n",
       "    </tr>\n",
       "    <tr>\n",
       "      <th>2</th>\n",
       "      <td>femenino</td>\n",
       "      <td>comercio</td>\n",
       "      <td>tienda</td>\n",
       "      <td>aranjuez</td>\n",
       "      <td>2</td>\n",
       "      <td>4</td>\n",
       "      <td>3/08/2017</td>\n",
       "      <td>7300000</td>\n",
       "      <td>microempresarial</td>\n",
       "    </tr>\n",
       "    <tr>\n",
       "      <th>3</th>\n",
       "      <td>Masculino</td>\n",
       "      <td>comercio</td>\n",
       "      <td>variedades</td>\n",
       "      <td>cabecera san cristobal</td>\n",
       "      <td>3</td>\n",
       "      <td>60</td>\n",
       "      <td>20/11/2017</td>\n",
       "      <td>7000000</td>\n",
       "      <td>microempresarial</td>\n",
       "    </tr>\n",
       "    <tr>\n",
       "      <th>4</th>\n",
       "      <td>femenino</td>\n",
       "      <td>comercio</td>\n",
       "      <td>fabrica de</td>\n",
       "      <td>robledo</td>\n",
       "      <td>2</td>\n",
       "      <td>7</td>\n",
       "      <td>23/02/2017</td>\n",
       "      <td>5000000</td>\n",
       "      <td>microempresarial</td>\n",
       "    </tr>\n",
       "  </tbody>\n",
       "</table>\n",
       "</div>"
      ],
      "text/plain": [
       "        sexo tipo_de_emprendimiento          idea_negocio  \\\n",
       "0  masculino               comercio           fabrica de    \n",
       "1   femenino               servicio  recreativo-educativo   \n",
       "2   femenino               comercio                tienda   \n",
       "3  Masculino               comercio            variedades   \n",
       "4   femenino               comercio           fabrica de    \n",
       "\n",
       "                   barrio  estrato  comuna_ciudadano fecha_de_beneficio  \\\n",
       "0                   prado        3                10         13/07/2018   \n",
       "1          barrio caicedo        1                 9         30/10/2017   \n",
       "2                aranjuez        2                 4          3/08/2017   \n",
       "3  cabecera san cristobal        3                60         20/11/2017   \n",
       "4                 robledo        2                 7         23/02/2017   \n",
       "\n",
       "  monto_del_credito     línea_credito  \n",
       "0           5000000  microempresarial  \n",
       "1           6000000  microempresarial  \n",
       "2           7300000  microempresarial  \n",
       "3           7000000  microempresarial  \n",
       "4           5000000  microempresarial  "
      ]
     },
     "execution_count": 11,
     "metadata": {},
     "output_type": "execute_result"
    }
   ],
   "source": [
    "df[\"comuna_ciudadano\"] = df[\"comuna_ciudadano\"].apply(lambda x: int(x))\n",
    "df.head()"
   ]
  },
  {
   "cell_type": "code",
   "execution_count": 12,
   "id": "0648a690",
   "metadata": {},
   "outputs": [
    {
     "data": {
      "text/plain": [
       "21"
      ]
     },
     "execution_count": 12,
     "metadata": {},
     "output_type": "execute_result"
    }
   ],
   "source": [
    "len(df.comuna_ciudadano.unique())"
   ]
  },
  {
   "cell_type": "markdown",
   "id": "881efd32",
   "metadata": {},
   "source": [
    "## sexo"
   ]
  },
  {
   "cell_type": "code",
   "execution_count": 13,
   "id": "622b82ff",
   "metadata": {},
   "outputs": [
    {
     "data": {
      "text/plain": [
       "array(['masculino', 'femenino'], dtype=object)"
      ]
     },
     "execution_count": 13,
     "metadata": {},
     "output_type": "execute_result"
    }
   ],
   "source": [
    "df[\"sexo\"] = df[\"sexo\"].str.lower()\n",
    "df.sexo.unique()"
   ]
  },
  {
   "cell_type": "markdown",
   "id": "dd915607",
   "metadata": {},
   "source": [
    "## tipo_de_emprendimiento"
   ]
  },
  {
   "cell_type": "code",
   "execution_count": 14,
   "id": "63aafa09",
   "metadata": {},
   "outputs": [
    {
     "data": {
      "application/vnd.microsoft.datawrangler.viewer.v0+json": {
       "columns": [
        {
         "name": "index",
         "rawType": "int64",
         "type": "integer"
        },
        {
         "name": "sexo",
         "rawType": "object",
         "type": "string"
        },
        {
         "name": "tipo_de_emprendimiento",
         "rawType": "object",
         "type": "string"
        },
        {
         "name": "idea_negocio",
         "rawType": "object",
         "type": "string"
        },
        {
         "name": "barrio",
         "rawType": "object",
         "type": "string"
        },
        {
         "name": "estrato",
         "rawType": "int64",
         "type": "integer"
        },
        {
         "name": "comuna_ciudadano",
         "rawType": "int64",
         "type": "integer"
        },
        {
         "name": "fecha_de_beneficio",
         "rawType": "object",
         "type": "string"
        },
        {
         "name": "monto_del_credito",
         "rawType": "object",
         "type": "string"
        },
        {
         "name": "línea_credito",
         "rawType": "object",
         "type": "string"
        }
       ],
       "ref": "5fa11725-206e-4492-8ec0-9a2ed857d855",
       "rows": [
        [
         "0",
         "masculino",
         "comercio",
         "fabrica de ",
         "prado",
         "3",
         "10",
         "13/07/2018",
         "5000000",
         "microempresarial"
        ],
        [
         "1",
         "femenino",
         "servicio",
         "recreativo-educativo",
         "barrio caicedo",
         "1",
         "9",
         "30/10/2017",
         "6000000",
         "microempresarial"
        ],
        [
         "2",
         "femenino",
         "comercio",
         "tienda",
         "aranjuez",
         "2",
         "4",
         "3/08/2017",
         "7300000",
         "microempresarial"
        ],
        [
         "3",
         "masculino",
         "comercio",
         "variedades",
         "cabecera san cristobal",
         "3",
         "60",
         "20/11/2017",
         "7000000",
         "microempresarial"
        ],
        [
         "4",
         "femenino",
         "comercio",
         "fabrica de ",
         "robledo",
         "2",
         "7",
         "23/02/2017",
         "5000000",
         "microempresarial"
        ],
        [
         "5",
         "femenino",
         "comercio",
         "variedades",
         "picachito",
         "1",
         "6",
         "2017/05/31",
         "7000000",
         "microempresarial"
        ],
        [
         "6",
         "femenino",
         "industria",
         "fabrica de ",
         "guayabal",
         "3",
         "15",
         "20/02/2016",
         "$ 2,000,000.00",
         "microempresarial"
        ],
        [
         "7",
         "femenino",
         "comercio",
         "tienda",
         "carpinelo",
         "1",
         "1",
         "14/02/2017",
         "3300000",
         "microempresarial"
        ],
        [
         "8",
         "masculino",
         "comercio",
         "variedades",
         "belalcazar",
         "2",
         "5",
         "7/05/2018",
         "7800000",
         "microempresarial"
        ],
        [
         "9",
         "femenino",
         "comercio",
         "variedades",
         "manrique central no. 1",
         "1",
         "4",
         "2018/05/3",
         "7800000",
         "microempresarial"
        ],
        [
         "10",
         "femenino",
         "industria",
         "fabrica de ",
         "manrique central no. 2",
         "2",
         "3",
         "28/02/2017",
         "4500000",
         "microempresarial"
        ],
        [
         "11",
         "masculino",
         "agropecuaria",
         "sembrados",
         "santa elena central",
         "2",
         "90",
         "23/12/2016",
         "13000000",
         "agropecuaria"
        ],
        [
         "12",
         "femenino",
         "comercio",
         "comidas rapidas",
         "andalucia",
         "2",
         "2",
         "12/04/2018",
         "7800000",
         "microempresarial"
        ],
        [
         "13",
         "masculino",
         "industria",
         "fabrica de ",
         "san javier no.1",
         "1",
         "13",
         "23/08/2018",
         "4000000",
         "microempresarial"
        ],
        [
         "14",
         "masculino",
         "servicio",
         "variedades",
         "belencito",
         "2",
         "13",
         "30/07/2018",
         "7800000",
         "microempresarial"
        ],
        [
         "15",
         "masculino",
         "comercio",
         "miscelanea",
         "centro admtivo",
         "3",
         "10",
         "14/02/2018",
         "1000000",
         "microempresarial"
        ],
        [
         "16",
         "femenino",
         "comercio",
         "variedades",
         "cabecera san antonio ",
         "2",
         "80",
         "16/11/2017",
         "7000000",
         "microempresarial"
        ],
        [
         "17",
         "femenino",
         "servicio",
         "cafe e internet",
         "manrique central no. 1",
         "3",
         "4",
         "29/04/2019",
         "8000000",
         "microempresarial"
        ],
        [
         "18",
         "masculino",
         "comercio",
         "tienda",
         "villa hermosa",
         "3",
         "8",
         "27/06/2018",
         "5000000",
         "microempresarial"
        ],
        [
         "19",
         "femenino",
         "comercio",
         "venta de calzado",
         "playon de los ",
         "2",
         "2",
         "27/02/2017",
         "7000000",
         "microempresarial"
        ],
        [
         "20",
         "femenino",
         "comercio",
         "productos de belleza",
         "buenos aires",
         "3",
         "9",
         "24/07/2017",
         "7300000",
         "microempresarial"
        ],
        [
         "21",
         "masculino",
         "comercio",
         "tienda",
         "manrique central no. 1",
         "2",
         "4",
         "14/09/2018",
         "6000000",
         "microempresarial"
        ],
        [
         "22",
         "femenino",
         "comercio",
         "tienda",
         "popular",
         "2",
         "1",
         "11/10/2018",
         "6000000",
         "microempresarial"
        ],
        [
         "23",
         "femenino",
         "comercio",
         "almacen de ropa en ",
         "robledo",
         "2",
         "7",
         "15/02/2018",
         "6000000",
         "microempresarial"
        ],
        [
         "24",
         "femenino",
         "comercio",
         "variedades",
         "tricentenario",
         "3",
         "5",
         "20/11/2017",
         "4000000",
         "microempresarial"
        ],
        [
         "25",
         "masculino",
         "servicio",
         "barberia",
         "calasanz",
         "2",
         "12",
         "26/09/2017",
         "7377000",
         "microempresarial"
        ],
        [
         "26",
         "masculino",
         "industria",
         "fabrica de ",
         "aranjuez",
         "3",
         "4",
         "24/10/2016",
         "$ 6,500,000.00",
         "Microempresarial"
        ],
        [
         "27",
         "femenino",
         "comercio",
         "comidas_rapidas",
         "buenos aires",
         "2",
         "9",
         "28/06/2019",
         "1500000",
         "microempresarial"
        ],
        [
         "28",
         "masculino",
         "comercio",
         "variedades",
         "andalucia",
         "2",
         "2",
         "17/08/2018",
         "7800000",
         "microempresarial"
        ],
        [
         "29",
         "femenino",
         "servicio",
         "peluqueria",
         "pedregal",
         "3",
         "6",
         "27/10/2017",
         "7300000",
         "microempresarial"
        ],
        [
         "30",
         "femenino",
         "servicio",
         "jardineria",
         "la francia",
         "2",
         "2",
         "12/06/2017",
         "7377000",
         "microempresarial"
        ],
        [
         "31",
         "femenino",
         "comercio",
         "variedades",
         "santa cruz",
         "2",
         "2",
         "14/06/2017",
         "4000000",
         "microempresarial"
        ],
        [
         "32",
         "femenino",
         "comercio",
         "tienda",
         "san javier no.1",
         "2",
         "13",
         "6/02/2018",
         "7800000",
         "microempresarial"
        ],
        [
         "33",
         "femenino",
         "comercio",
         "variedades",
         "LA FLORESTA",
         "3",
         "12",
         "5/09/2017",
         "7300000",
         "microempresarial"
        ],
        [
         "34",
         "femenino",
         "comercio",
         "VARIEDADES",
         "belen",
         "3",
         "16",
         "16/09/2016",
         "6890000",
         "microempresarial"
        ],
        [
         "35",
         "masculino",
         "comercio",
         "tienda",
         "las brisas",
         "3",
         "5",
         "2018/01/15",
         "6000000",
         "microempresarial"
        ],
        [
         "36",
         "femenino",
         "comercio",
         "peluqueria",
         "castilla",
         "3",
         "5",
         "11/08/2017",
         "2500000",
         "microempresarial"
        ],
        [
         "37",
         "masculino",
         "industria",
         "fabrica de alimentos",
         "san javier no.1",
         "2",
         "13",
         "27/10/2016",
         "$ 6,800,000.00",
         "microempresarial"
        ],
        [
         "38",
         "femenino",
         "comercio",
         "almacen de ropa en ",
         "cabecera san antonio ",
         "2",
         "80",
         "22/09/2016",
         "4000000",
         "Microempresarial"
        ],
        [
         "39",
         "masculino",
         "industria",
         "variedades",
         "cabecera san antonio ",
         "2",
         "80",
         "24/07/2017",
         "5000000",
         "credioportuno"
        ],
        [
         "40",
         "masculino",
         "industria",
         "fabrica de ",
         "guayabal",
         "2",
         "15",
         "2/03/2016",
         "4000000",
         "microempresarial"
        ],
        [
         "41",
         "masculino",
         "industria",
         "fabrica de ",
         "belen",
         "2",
         "16",
         "24/05/2016",
         "6500000",
         "microempresarial"
        ],
        [
         "42",
         "femenino",
         "comercio",
         "comidas rapidas",
         "santander",
         "2",
         "6",
         "27/07/2018",
         "1200000",
         "microempresarial"
        ],
        [
         "43",
         "femenino",
         "comercio",
         "almacen de ropa en ",
         "prado",
         "3",
         "10",
         "20/11/2017",
         "7000000",
         "microempresarial"
        ],
        [
         "44",
         "femenino",
         "comercio",
         "comidas rapidas",
         "santa cruz",
         "2",
         "2",
         "22/03/2018",
         "1500000",
         "microempresarial"
        ],
        [
         "45",
         "masculino",
         "industria",
         "fabrica-de-traperos",
         "ARANJUEZ",
         "3",
         "4",
         "24/02/2016",
         "$ 2,000,000.00",
         "microempresarial"
        ],
        [
         "46",
         "femenino",
         "comercio",
         "variedades",
         "castilla",
         "3",
         "5",
         "15/02/2017",
         "4000000",
         "microempresarial"
        ],
        [
         "47",
         "masculino",
         "industria",
         "fabrica de alimentos",
         "san javier no.2",
         "3",
         "13",
         "29/02/2016",
         "$ 6,890,000.00",
         "microempresarial"
        ],
        [
         "49",
         "masculino",
         "industria",
         "fabrica de ",
         "san javier no.1",
         "1",
         "13",
         "15/08/2017",
         "6000000",
         "MICROEMPRESARIAL"
        ],
        [
         "50",
         "masculino",
         "servicio",
         "variedades",
         "pedregal",
         "3",
         "6",
         "24/04/2017",
         "7000000",
         "microempresarial"
        ]
       ],
       "shape": {
        "columns": 9,
        "rows": 50
       }
      },
      "text/html": [
       "<div>\n",
       "<style scoped>\n",
       "    .dataframe tbody tr th:only-of-type {\n",
       "        vertical-align: middle;\n",
       "    }\n",
       "\n",
       "    .dataframe tbody tr th {\n",
       "        vertical-align: top;\n",
       "    }\n",
       "\n",
       "    .dataframe thead th {\n",
       "        text-align: right;\n",
       "    }\n",
       "</style>\n",
       "<table border=\"1\" class=\"dataframe\">\n",
       "  <thead>\n",
       "    <tr style=\"text-align: right;\">\n",
       "      <th></th>\n",
       "      <th>sexo</th>\n",
       "      <th>tipo_de_emprendimiento</th>\n",
       "      <th>idea_negocio</th>\n",
       "      <th>barrio</th>\n",
       "      <th>estrato</th>\n",
       "      <th>comuna_ciudadano</th>\n",
       "      <th>fecha_de_beneficio</th>\n",
       "      <th>monto_del_credito</th>\n",
       "      <th>línea_credito</th>\n",
       "    </tr>\n",
       "  </thead>\n",
       "  <tbody>\n",
       "    <tr>\n",
       "      <th>0</th>\n",
       "      <td>masculino</td>\n",
       "      <td>comercio</td>\n",
       "      <td>fabrica de</td>\n",
       "      <td>prado</td>\n",
       "      <td>3</td>\n",
       "      <td>10</td>\n",
       "      <td>13/07/2018</td>\n",
       "      <td>5000000</td>\n",
       "      <td>microempresarial</td>\n",
       "    </tr>\n",
       "    <tr>\n",
       "      <th>1</th>\n",
       "      <td>femenino</td>\n",
       "      <td>servicio</td>\n",
       "      <td>recreativo-educativo</td>\n",
       "      <td>barrio caicedo</td>\n",
       "      <td>1</td>\n",
       "      <td>9</td>\n",
       "      <td>30/10/2017</td>\n",
       "      <td>6000000</td>\n",
       "      <td>microempresarial</td>\n",
       "    </tr>\n",
       "    <tr>\n",
       "      <th>2</th>\n",
       "      <td>femenino</td>\n",
       "      <td>comercio</td>\n",
       "      <td>tienda</td>\n",
       "      <td>aranjuez</td>\n",
       "      <td>2</td>\n",
       "      <td>4</td>\n",
       "      <td>3/08/2017</td>\n",
       "      <td>7300000</td>\n",
       "      <td>microempresarial</td>\n",
       "    </tr>\n",
       "    <tr>\n",
       "      <th>3</th>\n",
       "      <td>masculino</td>\n",
       "      <td>comercio</td>\n",
       "      <td>variedades</td>\n",
       "      <td>cabecera san cristobal</td>\n",
       "      <td>3</td>\n",
       "      <td>60</td>\n",
       "      <td>20/11/2017</td>\n",
       "      <td>7000000</td>\n",
       "      <td>microempresarial</td>\n",
       "    </tr>\n",
       "    <tr>\n",
       "      <th>4</th>\n",
       "      <td>femenino</td>\n",
       "      <td>comercio</td>\n",
       "      <td>fabrica de</td>\n",
       "      <td>robledo</td>\n",
       "      <td>2</td>\n",
       "      <td>7</td>\n",
       "      <td>23/02/2017</td>\n",
       "      <td>5000000</td>\n",
       "      <td>microempresarial</td>\n",
       "    </tr>\n",
       "    <tr>\n",
       "      <th>5</th>\n",
       "      <td>femenino</td>\n",
       "      <td>comercio</td>\n",
       "      <td>variedades</td>\n",
       "      <td>picachito</td>\n",
       "      <td>1</td>\n",
       "      <td>6</td>\n",
       "      <td>2017/05/31</td>\n",
       "      <td>7000000</td>\n",
       "      <td>microempresarial</td>\n",
       "    </tr>\n",
       "    <tr>\n",
       "      <th>6</th>\n",
       "      <td>femenino</td>\n",
       "      <td>industria</td>\n",
       "      <td>fabrica de</td>\n",
       "      <td>guayabal</td>\n",
       "      <td>3</td>\n",
       "      <td>15</td>\n",
       "      <td>20/02/2016</td>\n",
       "      <td>$ 2,000,000.00</td>\n",
       "      <td>microempresarial</td>\n",
       "    </tr>\n",
       "    <tr>\n",
       "      <th>7</th>\n",
       "      <td>femenino</td>\n",
       "      <td>comercio</td>\n",
       "      <td>tienda</td>\n",
       "      <td>carpinelo</td>\n",
       "      <td>1</td>\n",
       "      <td>1</td>\n",
       "      <td>14/02/2017</td>\n",
       "      <td>3300000</td>\n",
       "      <td>microempresarial</td>\n",
       "    </tr>\n",
       "    <tr>\n",
       "      <th>8</th>\n",
       "      <td>masculino</td>\n",
       "      <td>comercio</td>\n",
       "      <td>variedades</td>\n",
       "      <td>belalcazar</td>\n",
       "      <td>2</td>\n",
       "      <td>5</td>\n",
       "      <td>7/05/2018</td>\n",
       "      <td>7800000</td>\n",
       "      <td>microempresarial</td>\n",
       "    </tr>\n",
       "    <tr>\n",
       "      <th>9</th>\n",
       "      <td>femenino</td>\n",
       "      <td>comercio</td>\n",
       "      <td>variedades</td>\n",
       "      <td>manrique central no. 1</td>\n",
       "      <td>1</td>\n",
       "      <td>4</td>\n",
       "      <td>2018/05/3</td>\n",
       "      <td>7800000</td>\n",
       "      <td>microempresarial</td>\n",
       "    </tr>\n",
       "    <tr>\n",
       "      <th>10</th>\n",
       "      <td>femenino</td>\n",
       "      <td>industria</td>\n",
       "      <td>fabrica de</td>\n",
       "      <td>manrique central no. 2</td>\n",
       "      <td>2</td>\n",
       "      <td>3</td>\n",
       "      <td>28/02/2017</td>\n",
       "      <td>4500000</td>\n",
       "      <td>microempresarial</td>\n",
       "    </tr>\n",
       "    <tr>\n",
       "      <th>11</th>\n",
       "      <td>masculino</td>\n",
       "      <td>agropecuaria</td>\n",
       "      <td>sembrados</td>\n",
       "      <td>santa elena central</td>\n",
       "      <td>2</td>\n",
       "      <td>90</td>\n",
       "      <td>23/12/2016</td>\n",
       "      <td>13000000</td>\n",
       "      <td>agropecuaria</td>\n",
       "    </tr>\n",
       "    <tr>\n",
       "      <th>12</th>\n",
       "      <td>femenino</td>\n",
       "      <td>comercio</td>\n",
       "      <td>comidas rapidas</td>\n",
       "      <td>andalucia</td>\n",
       "      <td>2</td>\n",
       "      <td>2</td>\n",
       "      <td>12/04/2018</td>\n",
       "      <td>7800000</td>\n",
       "      <td>microempresarial</td>\n",
       "    </tr>\n",
       "    <tr>\n",
       "      <th>13</th>\n",
       "      <td>masculino</td>\n",
       "      <td>industria</td>\n",
       "      <td>fabrica de</td>\n",
       "      <td>san javier no.1</td>\n",
       "      <td>1</td>\n",
       "      <td>13</td>\n",
       "      <td>23/08/2018</td>\n",
       "      <td>4000000</td>\n",
       "      <td>microempresarial</td>\n",
       "    </tr>\n",
       "    <tr>\n",
       "      <th>14</th>\n",
       "      <td>masculino</td>\n",
       "      <td>servicio</td>\n",
       "      <td>variedades</td>\n",
       "      <td>belencito</td>\n",
       "      <td>2</td>\n",
       "      <td>13</td>\n",
       "      <td>30/07/2018</td>\n",
       "      <td>7800000</td>\n",
       "      <td>microempresarial</td>\n",
       "    </tr>\n",
       "    <tr>\n",
       "      <th>15</th>\n",
       "      <td>masculino</td>\n",
       "      <td>comercio</td>\n",
       "      <td>miscelanea</td>\n",
       "      <td>centro admtivo</td>\n",
       "      <td>3</td>\n",
       "      <td>10</td>\n",
       "      <td>14/02/2018</td>\n",
       "      <td>1000000</td>\n",
       "      <td>microempresarial</td>\n",
       "    </tr>\n",
       "    <tr>\n",
       "      <th>16</th>\n",
       "      <td>femenino</td>\n",
       "      <td>comercio</td>\n",
       "      <td>variedades</td>\n",
       "      <td>cabecera san antonio</td>\n",
       "      <td>2</td>\n",
       "      <td>80</td>\n",
       "      <td>16/11/2017</td>\n",
       "      <td>7000000</td>\n",
       "      <td>microempresarial</td>\n",
       "    </tr>\n",
       "    <tr>\n",
       "      <th>17</th>\n",
       "      <td>femenino</td>\n",
       "      <td>servicio</td>\n",
       "      <td>cafe e internet</td>\n",
       "      <td>manrique central no. 1</td>\n",
       "      <td>3</td>\n",
       "      <td>4</td>\n",
       "      <td>29/04/2019</td>\n",
       "      <td>8000000</td>\n",
       "      <td>microempresarial</td>\n",
       "    </tr>\n",
       "    <tr>\n",
       "      <th>18</th>\n",
       "      <td>masculino</td>\n",
       "      <td>comercio</td>\n",
       "      <td>tienda</td>\n",
       "      <td>villa hermosa</td>\n",
       "      <td>3</td>\n",
       "      <td>8</td>\n",
       "      <td>27/06/2018</td>\n",
       "      <td>5000000</td>\n",
       "      <td>microempresarial</td>\n",
       "    </tr>\n",
       "    <tr>\n",
       "      <th>19</th>\n",
       "      <td>femenino</td>\n",
       "      <td>comercio</td>\n",
       "      <td>venta de calzado</td>\n",
       "      <td>playon de los</td>\n",
       "      <td>2</td>\n",
       "      <td>2</td>\n",
       "      <td>27/02/2017</td>\n",
       "      <td>7000000</td>\n",
       "      <td>microempresarial</td>\n",
       "    </tr>\n",
       "    <tr>\n",
       "      <th>20</th>\n",
       "      <td>femenino</td>\n",
       "      <td>comercio</td>\n",
       "      <td>productos de belleza</td>\n",
       "      <td>buenos aires</td>\n",
       "      <td>3</td>\n",
       "      <td>9</td>\n",
       "      <td>24/07/2017</td>\n",
       "      <td>7300000</td>\n",
       "      <td>microempresarial</td>\n",
       "    </tr>\n",
       "    <tr>\n",
       "      <th>21</th>\n",
       "      <td>masculino</td>\n",
       "      <td>comercio</td>\n",
       "      <td>tienda</td>\n",
       "      <td>manrique central no. 1</td>\n",
       "      <td>2</td>\n",
       "      <td>4</td>\n",
       "      <td>14/09/2018</td>\n",
       "      <td>6000000</td>\n",
       "      <td>microempresarial</td>\n",
       "    </tr>\n",
       "    <tr>\n",
       "      <th>22</th>\n",
       "      <td>femenino</td>\n",
       "      <td>comercio</td>\n",
       "      <td>tienda</td>\n",
       "      <td>popular</td>\n",
       "      <td>2</td>\n",
       "      <td>1</td>\n",
       "      <td>11/10/2018</td>\n",
       "      <td>6000000</td>\n",
       "      <td>microempresarial</td>\n",
       "    </tr>\n",
       "    <tr>\n",
       "      <th>23</th>\n",
       "      <td>femenino</td>\n",
       "      <td>comercio</td>\n",
       "      <td>almacen de ropa en</td>\n",
       "      <td>robledo</td>\n",
       "      <td>2</td>\n",
       "      <td>7</td>\n",
       "      <td>15/02/2018</td>\n",
       "      <td>6000000</td>\n",
       "      <td>microempresarial</td>\n",
       "    </tr>\n",
       "    <tr>\n",
       "      <th>24</th>\n",
       "      <td>femenino</td>\n",
       "      <td>comercio</td>\n",
       "      <td>variedades</td>\n",
       "      <td>tricentenario</td>\n",
       "      <td>3</td>\n",
       "      <td>5</td>\n",
       "      <td>20/11/2017</td>\n",
       "      <td>4000000</td>\n",
       "      <td>microempresarial</td>\n",
       "    </tr>\n",
       "    <tr>\n",
       "      <th>25</th>\n",
       "      <td>masculino</td>\n",
       "      <td>servicio</td>\n",
       "      <td>barberia</td>\n",
       "      <td>calasanz</td>\n",
       "      <td>2</td>\n",
       "      <td>12</td>\n",
       "      <td>26/09/2017</td>\n",
       "      <td>7377000</td>\n",
       "      <td>microempresarial</td>\n",
       "    </tr>\n",
       "    <tr>\n",
       "      <th>26</th>\n",
       "      <td>masculino</td>\n",
       "      <td>industria</td>\n",
       "      <td>fabrica de</td>\n",
       "      <td>aranjuez</td>\n",
       "      <td>3</td>\n",
       "      <td>4</td>\n",
       "      <td>24/10/2016</td>\n",
       "      <td>$ 6,500,000.00</td>\n",
       "      <td>Microempresarial</td>\n",
       "    </tr>\n",
       "    <tr>\n",
       "      <th>27</th>\n",
       "      <td>femenino</td>\n",
       "      <td>comercio</td>\n",
       "      <td>comidas_rapidas</td>\n",
       "      <td>buenos aires</td>\n",
       "      <td>2</td>\n",
       "      <td>9</td>\n",
       "      <td>28/06/2019</td>\n",
       "      <td>1500000</td>\n",
       "      <td>microempresarial</td>\n",
       "    </tr>\n",
       "    <tr>\n",
       "      <th>28</th>\n",
       "      <td>masculino</td>\n",
       "      <td>comercio</td>\n",
       "      <td>variedades</td>\n",
       "      <td>andalucia</td>\n",
       "      <td>2</td>\n",
       "      <td>2</td>\n",
       "      <td>17/08/2018</td>\n",
       "      <td>7800000</td>\n",
       "      <td>microempresarial</td>\n",
       "    </tr>\n",
       "    <tr>\n",
       "      <th>29</th>\n",
       "      <td>femenino</td>\n",
       "      <td>servicio</td>\n",
       "      <td>peluqueria</td>\n",
       "      <td>pedregal</td>\n",
       "      <td>3</td>\n",
       "      <td>6</td>\n",
       "      <td>27/10/2017</td>\n",
       "      <td>7300000</td>\n",
       "      <td>microempresarial</td>\n",
       "    </tr>\n",
       "    <tr>\n",
       "      <th>30</th>\n",
       "      <td>femenino</td>\n",
       "      <td>servicio</td>\n",
       "      <td>jardineria</td>\n",
       "      <td>la francia</td>\n",
       "      <td>2</td>\n",
       "      <td>2</td>\n",
       "      <td>12/06/2017</td>\n",
       "      <td>7377000</td>\n",
       "      <td>microempresarial</td>\n",
       "    </tr>\n",
       "    <tr>\n",
       "      <th>31</th>\n",
       "      <td>femenino</td>\n",
       "      <td>comercio</td>\n",
       "      <td>variedades</td>\n",
       "      <td>santa cruz</td>\n",
       "      <td>2</td>\n",
       "      <td>2</td>\n",
       "      <td>14/06/2017</td>\n",
       "      <td>4000000</td>\n",
       "      <td>microempresarial</td>\n",
       "    </tr>\n",
       "    <tr>\n",
       "      <th>32</th>\n",
       "      <td>femenino</td>\n",
       "      <td>comercio</td>\n",
       "      <td>tienda</td>\n",
       "      <td>san javier no.1</td>\n",
       "      <td>2</td>\n",
       "      <td>13</td>\n",
       "      <td>6/02/2018</td>\n",
       "      <td>7800000</td>\n",
       "      <td>microempresarial</td>\n",
       "    </tr>\n",
       "    <tr>\n",
       "      <th>33</th>\n",
       "      <td>femenino</td>\n",
       "      <td>comercio</td>\n",
       "      <td>variedades</td>\n",
       "      <td>LA FLORESTA</td>\n",
       "      <td>3</td>\n",
       "      <td>12</td>\n",
       "      <td>5/09/2017</td>\n",
       "      <td>7300000</td>\n",
       "      <td>microempresarial</td>\n",
       "    </tr>\n",
       "    <tr>\n",
       "      <th>34</th>\n",
       "      <td>femenino</td>\n",
       "      <td>comercio</td>\n",
       "      <td>VARIEDADES</td>\n",
       "      <td>belen</td>\n",
       "      <td>3</td>\n",
       "      <td>16</td>\n",
       "      <td>16/09/2016</td>\n",
       "      <td>6890000</td>\n",
       "      <td>microempresarial</td>\n",
       "    </tr>\n",
       "    <tr>\n",
       "      <th>35</th>\n",
       "      <td>masculino</td>\n",
       "      <td>comercio</td>\n",
       "      <td>tienda</td>\n",
       "      <td>las brisas</td>\n",
       "      <td>3</td>\n",
       "      <td>5</td>\n",
       "      <td>2018/01/15</td>\n",
       "      <td>6000000</td>\n",
       "      <td>microempresarial</td>\n",
       "    </tr>\n",
       "    <tr>\n",
       "      <th>36</th>\n",
       "      <td>femenino</td>\n",
       "      <td>comercio</td>\n",
       "      <td>peluqueria</td>\n",
       "      <td>castilla</td>\n",
       "      <td>3</td>\n",
       "      <td>5</td>\n",
       "      <td>11/08/2017</td>\n",
       "      <td>2500000</td>\n",
       "      <td>microempresarial</td>\n",
       "    </tr>\n",
       "    <tr>\n",
       "      <th>37</th>\n",
       "      <td>masculino</td>\n",
       "      <td>industria</td>\n",
       "      <td>fabrica de alimentos</td>\n",
       "      <td>san javier no.1</td>\n",
       "      <td>2</td>\n",
       "      <td>13</td>\n",
       "      <td>27/10/2016</td>\n",
       "      <td>$ 6,800,000.00</td>\n",
       "      <td>microempresarial</td>\n",
       "    </tr>\n",
       "    <tr>\n",
       "      <th>38</th>\n",
       "      <td>femenino</td>\n",
       "      <td>comercio</td>\n",
       "      <td>almacen de ropa en</td>\n",
       "      <td>cabecera san antonio</td>\n",
       "      <td>2</td>\n",
       "      <td>80</td>\n",
       "      <td>22/09/2016</td>\n",
       "      <td>4000000</td>\n",
       "      <td>Microempresarial</td>\n",
       "    </tr>\n",
       "    <tr>\n",
       "      <th>39</th>\n",
       "      <td>masculino</td>\n",
       "      <td>industria</td>\n",
       "      <td>variedades</td>\n",
       "      <td>cabecera san antonio</td>\n",
       "      <td>2</td>\n",
       "      <td>80</td>\n",
       "      <td>24/07/2017</td>\n",
       "      <td>5000000</td>\n",
       "      <td>credioportuno</td>\n",
       "    </tr>\n",
       "    <tr>\n",
       "      <th>40</th>\n",
       "      <td>masculino</td>\n",
       "      <td>industria</td>\n",
       "      <td>fabrica de</td>\n",
       "      <td>guayabal</td>\n",
       "      <td>2</td>\n",
       "      <td>15</td>\n",
       "      <td>2/03/2016</td>\n",
       "      <td>4000000</td>\n",
       "      <td>microempresarial</td>\n",
       "    </tr>\n",
       "    <tr>\n",
       "      <th>41</th>\n",
       "      <td>masculino</td>\n",
       "      <td>industria</td>\n",
       "      <td>fabrica de</td>\n",
       "      <td>belen</td>\n",
       "      <td>2</td>\n",
       "      <td>16</td>\n",
       "      <td>24/05/2016</td>\n",
       "      <td>6500000</td>\n",
       "      <td>microempresarial</td>\n",
       "    </tr>\n",
       "    <tr>\n",
       "      <th>42</th>\n",
       "      <td>femenino</td>\n",
       "      <td>comercio</td>\n",
       "      <td>comidas rapidas</td>\n",
       "      <td>santander</td>\n",
       "      <td>2</td>\n",
       "      <td>6</td>\n",
       "      <td>27/07/2018</td>\n",
       "      <td>1200000</td>\n",
       "      <td>microempresarial</td>\n",
       "    </tr>\n",
       "    <tr>\n",
       "      <th>43</th>\n",
       "      <td>femenino</td>\n",
       "      <td>comercio</td>\n",
       "      <td>almacen de ropa en</td>\n",
       "      <td>prado</td>\n",
       "      <td>3</td>\n",
       "      <td>10</td>\n",
       "      <td>20/11/2017</td>\n",
       "      <td>7000000</td>\n",
       "      <td>microempresarial</td>\n",
       "    </tr>\n",
       "    <tr>\n",
       "      <th>44</th>\n",
       "      <td>femenino</td>\n",
       "      <td>comercio</td>\n",
       "      <td>comidas rapidas</td>\n",
       "      <td>santa cruz</td>\n",
       "      <td>2</td>\n",
       "      <td>2</td>\n",
       "      <td>22/03/2018</td>\n",
       "      <td>1500000</td>\n",
       "      <td>microempresarial</td>\n",
       "    </tr>\n",
       "    <tr>\n",
       "      <th>45</th>\n",
       "      <td>masculino</td>\n",
       "      <td>industria</td>\n",
       "      <td>fabrica-de-traperos</td>\n",
       "      <td>ARANJUEZ</td>\n",
       "      <td>3</td>\n",
       "      <td>4</td>\n",
       "      <td>24/02/2016</td>\n",
       "      <td>$ 2,000,000.00</td>\n",
       "      <td>microempresarial</td>\n",
       "    </tr>\n",
       "    <tr>\n",
       "      <th>46</th>\n",
       "      <td>femenino</td>\n",
       "      <td>comercio</td>\n",
       "      <td>variedades</td>\n",
       "      <td>castilla</td>\n",
       "      <td>3</td>\n",
       "      <td>5</td>\n",
       "      <td>15/02/2017</td>\n",
       "      <td>4000000</td>\n",
       "      <td>microempresarial</td>\n",
       "    </tr>\n",
       "    <tr>\n",
       "      <th>47</th>\n",
       "      <td>masculino</td>\n",
       "      <td>industria</td>\n",
       "      <td>fabrica de alimentos</td>\n",
       "      <td>san javier no.2</td>\n",
       "      <td>3</td>\n",
       "      <td>13</td>\n",
       "      <td>29/02/2016</td>\n",
       "      <td>$ 6,890,000.00</td>\n",
       "      <td>microempresarial</td>\n",
       "    </tr>\n",
       "    <tr>\n",
       "      <th>49</th>\n",
       "      <td>masculino</td>\n",
       "      <td>industria</td>\n",
       "      <td>fabrica de</td>\n",
       "      <td>san javier no.1</td>\n",
       "      <td>1</td>\n",
       "      <td>13</td>\n",
       "      <td>15/08/2017</td>\n",
       "      <td>6000000</td>\n",
       "      <td>MICROEMPRESARIAL</td>\n",
       "    </tr>\n",
       "    <tr>\n",
       "      <th>50</th>\n",
       "      <td>masculino</td>\n",
       "      <td>servicio</td>\n",
       "      <td>variedades</td>\n",
       "      <td>pedregal</td>\n",
       "      <td>3</td>\n",
       "      <td>6</td>\n",
       "      <td>24/04/2017</td>\n",
       "      <td>7000000</td>\n",
       "      <td>microempresarial</td>\n",
       "    </tr>\n",
       "  </tbody>\n",
       "</table>\n",
       "</div>"
      ],
      "text/plain": [
       "         sexo tipo_de_emprendimiento          idea_negocio  \\\n",
       "0   masculino               comercio           fabrica de    \n",
       "1    femenino               servicio  recreativo-educativo   \n",
       "2    femenino               comercio                tienda   \n",
       "3   masculino               comercio            variedades   \n",
       "4    femenino               comercio           fabrica de    \n",
       "5    femenino               comercio            variedades   \n",
       "6    femenino              industria           fabrica de    \n",
       "7    femenino               comercio                tienda   \n",
       "8   masculino               comercio            variedades   \n",
       "9    femenino               comercio            variedades   \n",
       "10   femenino              industria           fabrica de    \n",
       "11  masculino           agropecuaria             sembrados   \n",
       "12   femenino               comercio       comidas rapidas   \n",
       "13  masculino              industria           fabrica de    \n",
       "14  masculino               servicio            variedades   \n",
       "15  masculino               comercio            miscelanea   \n",
       "16   femenino               comercio            variedades   \n",
       "17   femenino               servicio       cafe e internet   \n",
       "18  masculino               comercio                tienda   \n",
       "19   femenino               comercio      venta de calzado   \n",
       "20   femenino               comercio  productos de belleza   \n",
       "21  masculino               comercio                tienda   \n",
       "22   femenino               comercio                tienda   \n",
       "23   femenino               comercio   almacen de ropa en    \n",
       "24   femenino               comercio            variedades   \n",
       "25  masculino               servicio              barberia   \n",
       "26  masculino              industria           fabrica de    \n",
       "27   femenino               comercio       comidas_rapidas   \n",
       "28  masculino               comercio            variedades   \n",
       "29   femenino               servicio            peluqueria   \n",
       "30   femenino               servicio            jardineria   \n",
       "31   femenino               comercio            variedades   \n",
       "32   femenino               comercio                tienda   \n",
       "33   femenino               comercio            variedades   \n",
       "34   femenino               comercio            VARIEDADES   \n",
       "35  masculino               comercio                tienda   \n",
       "36   femenino               comercio            peluqueria   \n",
       "37  masculino              industria  fabrica de alimentos   \n",
       "38   femenino               comercio   almacen de ropa en    \n",
       "39  masculino              industria            variedades   \n",
       "40  masculino              industria           fabrica de    \n",
       "41  masculino              industria           fabrica de    \n",
       "42   femenino               comercio       comidas rapidas   \n",
       "43   femenino               comercio   almacen de ropa en    \n",
       "44   femenino               comercio       comidas rapidas   \n",
       "45  masculino              industria   fabrica-de-traperos   \n",
       "46   femenino               comercio            variedades   \n",
       "47  masculino              industria  fabrica de alimentos   \n",
       "49  masculino              industria           fabrica de    \n",
       "50  masculino               servicio            variedades   \n",
       "\n",
       "                    barrio  estrato  comuna_ciudadano fecha_de_beneficio  \\\n",
       "0                    prado        3                10         13/07/2018   \n",
       "1           barrio caicedo        1                 9         30/10/2017   \n",
       "2                 aranjuez        2                 4          3/08/2017   \n",
       "3   cabecera san cristobal        3                60         20/11/2017   \n",
       "4                  robledo        2                 7         23/02/2017   \n",
       "5                picachito        1                 6         2017/05/31   \n",
       "6                 guayabal        3                15         20/02/2016   \n",
       "7                carpinelo        1                 1         14/02/2017   \n",
       "8               belalcazar        2                 5          7/05/2018   \n",
       "9   manrique central no. 1        1                 4          2018/05/3   \n",
       "10  manrique central no. 2        2                 3         28/02/2017   \n",
       "11     santa elena central        2                90         23/12/2016   \n",
       "12               andalucia        2                 2         12/04/2018   \n",
       "13         san javier no.1        1                13         23/08/2018   \n",
       "14               belencito        2                13         30/07/2018   \n",
       "15          centro admtivo        3                10         14/02/2018   \n",
       "16   cabecera san antonio         2                80         16/11/2017   \n",
       "17  manrique central no. 1        3                 4         29/04/2019   \n",
       "18           villa hermosa        3                 8         27/06/2018   \n",
       "19          playon de los         2                 2         27/02/2017   \n",
       "20            buenos aires        3                 9         24/07/2017   \n",
       "21  manrique central no. 1        2                 4         14/09/2018   \n",
       "22                 popular        2                 1         11/10/2018   \n",
       "23                 robledo        2                 7         15/02/2018   \n",
       "24           tricentenario        3                 5         20/11/2017   \n",
       "25                calasanz        2                12         26/09/2017   \n",
       "26                aranjuez        3                 4         24/10/2016   \n",
       "27            buenos aires        2                 9         28/06/2019   \n",
       "28               andalucia        2                 2         17/08/2018   \n",
       "29                pedregal        3                 6         27/10/2017   \n",
       "30              la francia        2                 2         12/06/2017   \n",
       "31              santa cruz        2                 2         14/06/2017   \n",
       "32         san javier no.1        2                13          6/02/2018   \n",
       "33             LA FLORESTA        3                12          5/09/2017   \n",
       "34                   belen        3                16         16/09/2016   \n",
       "35              las brisas        3                 5         2018/01/15   \n",
       "36                castilla        3                 5         11/08/2017   \n",
       "37         san javier no.1        2                13         27/10/2016   \n",
       "38   cabecera san antonio         2                80         22/09/2016   \n",
       "39   cabecera san antonio         2                80         24/07/2017   \n",
       "40                guayabal        2                15          2/03/2016   \n",
       "41                   belen        2                16         24/05/2016   \n",
       "42               santander        2                 6         27/07/2018   \n",
       "43                   prado        3                10         20/11/2017   \n",
       "44              santa cruz        2                 2         22/03/2018   \n",
       "45                ARANJUEZ        3                 4         24/02/2016   \n",
       "46                castilla        3                 5         15/02/2017   \n",
       "47         san javier no.2        3                13         29/02/2016   \n",
       "49         san javier no.1        1                13         15/08/2017   \n",
       "50                pedregal        3                 6         24/04/2017   \n",
       "\n",
       "   monto_del_credito     línea_credito  \n",
       "0            5000000  microempresarial  \n",
       "1            6000000  microempresarial  \n",
       "2            7300000  microempresarial  \n",
       "3            7000000  microempresarial  \n",
       "4            5000000  microempresarial  \n",
       "5            7000000  microempresarial  \n",
       "6     $ 2,000,000.00  microempresarial  \n",
       "7            3300000  microempresarial  \n",
       "8            7800000  microempresarial  \n",
       "9            7800000  microempresarial  \n",
       "10           4500000  microempresarial  \n",
       "11          13000000      agropecuaria  \n",
       "12           7800000  microempresarial  \n",
       "13           4000000  microempresarial  \n",
       "14           7800000  microempresarial  \n",
       "15           1000000  microempresarial  \n",
       "16           7000000  microempresarial  \n",
       "17           8000000  microempresarial  \n",
       "18           5000000  microempresarial  \n",
       "19           7000000  microempresarial  \n",
       "20           7300000  microempresarial  \n",
       "21           6000000  microempresarial  \n",
       "22           6000000  microempresarial  \n",
       "23           6000000  microempresarial  \n",
       "24           4000000  microempresarial  \n",
       "25           7377000  microempresarial  \n",
       "26    $ 6,500,000.00  Microempresarial  \n",
       "27           1500000  microempresarial  \n",
       "28           7800000  microempresarial  \n",
       "29           7300000  microempresarial  \n",
       "30           7377000  microempresarial  \n",
       "31           4000000  microempresarial  \n",
       "32           7800000  microempresarial  \n",
       "33           7300000  microempresarial  \n",
       "34           6890000  microempresarial  \n",
       "35           6000000  microempresarial  \n",
       "36           2500000  microempresarial  \n",
       "37    $ 6,800,000.00  microempresarial  \n",
       "38           4000000  Microempresarial  \n",
       "39           5000000     credioportuno  \n",
       "40           4000000  microempresarial  \n",
       "41           6500000  microempresarial  \n",
       "42           1200000  microempresarial  \n",
       "43           7000000  microempresarial  \n",
       "44           1500000  microempresarial  \n",
       "45    $ 2,000,000.00  microempresarial  \n",
       "46           4000000  microempresarial  \n",
       "47    $ 6,890,000.00  microempresarial  \n",
       "49           6000000  MICROEMPRESARIAL  \n",
       "50           7000000  microempresarial  "
      ]
     },
     "execution_count": 14,
     "metadata": {},
     "output_type": "execute_result"
    }
   ],
   "source": [
    "df[\"tipo_de_emprendimiento\"] = df[\"tipo_de_emprendimiento\"].str.lower()\n",
    "df.head(50)\n"
   ]
  },
  {
   "cell_type": "code",
   "execution_count": 15,
   "id": "8b4054c0",
   "metadata": {},
   "outputs": [
    {
     "data": {
      "text/plain": [
       "array(['comercio', 'servicio', 'industria', 'agropecuaria'], dtype=object)"
      ]
     },
     "execution_count": 15,
     "metadata": {},
     "output_type": "execute_result"
    }
   ],
   "source": [
    "df.tipo_de_emprendimiento.unique()"
   ]
  },
  {
   "cell_type": "markdown",
   "id": "8f16be28",
   "metadata": {},
   "source": [
    "## idea_negocio"
   ]
  },
  {
   "cell_type": "code",
   "execution_count": 16,
   "id": "fc0f46f4",
   "metadata": {},
   "outputs": [
    {
     "name": "stderr",
     "output_type": "stream",
     "text": [
      "[nltk_data] Downloading package stopwords to\n",
      "[nltk_data]     C:\\Users\\EmanuelVelézSepúlved\\AppData\\Roaming\\nltk_dat\n",
      "[nltk_data]     a...\n",
      "[nltk_data]   Package stopwords is already up-to-date!\n"
     ]
    },
    {
     "data": {
      "text/plain": [
       "True"
      ]
     },
     "execution_count": 16,
     "metadata": {},
     "output_type": "execute_result"
    }
   ],
   "source": [
    "import nltk\n",
    "from nltk.corpus import stopwords\n",
    "from nltk.tokenize import word_tokenize\n",
    "nltk.download('stopwords')\n"
   ]
  },
  {
   "cell_type": "code",
   "execution_count": 17,
   "id": "dc1f73e1",
   "metadata": {},
   "outputs": [
    {
     "name": "stderr",
     "output_type": "stream",
     "text": [
      "[nltk_data] Downloading package punkt to\n",
      "[nltk_data]     C:\\Users\\EmanuelVelézSepúlved\\AppData\\Roaming\\nltk_dat\n",
      "[nltk_data]     a...\n",
      "[nltk_data]   Package punkt is already up-to-date!\n"
     ]
    }
   ],
   "source": [
    "nltk.download('punkt')\n",
    "# Stopwords en español\n",
    "stop_words = set(stopwords.words('spanish'))\n",
    "def eliminar_stopwords(texto):\n",
    "    palabras = word_tokenize(texto.lower())\n",
    "    palabras_filtradas = [palabra for palabra in palabras if palabra.isalpha() and palabra not in stop_words]\n",
    "    return ' '.join(palabras_filtradas)"
   ]
  },
  {
   "cell_type": "code",
   "execution_count": 18,
   "id": "59fe2dc9",
   "metadata": {},
   "outputs": [],
   "source": [
    "import nltk\n",
    "def create_normalized_key(df, column_name):\n",
    "    \"\"\"Cree una nueva columna en el DataFrame que contenga\n",
    "    el key de la columna 'raw_text'\"\"\"\n",
    "\n",
    "    df[column_name] = df[column_name].str.lower()\n",
    "\n",
    "    df[column_name] = df[column_name].str.replace(r\"[_-]\", \" \", regex=True)\n",
    "    df = df.copy()\n",
    "\n",
    "    # Copie la columna 'text' a la columna 'key'\n",
    "    df[\"key\"] = df[column_name]\n",
    "\n",
    "    # Remueva los espacios en blanco al principio y al final de la cadena\n",
    "    df[\"key\"] = df[\"key\"].str.strip()\n",
    "\n",
    "    # Convierta el texto a minúsculas\n",
    "    df[\"key\"] = df[\"key\"].str.lower()\n",
    "\n",
    "    # Transforme palabras que pueden (o no) contener guiones por su\n",
    "    # version sin guion (este paso es redundante por la linea siguiente.\n",
    "    # Pero es claro anotar la existencia de palabras con y sin '-'.\n",
    "    # Reemplazarlos por espacios\n",
    "\n",
    "\n",
    "    # Remueva puntuación y caracteres de control\n",
    "    df[\"key\"] = df[\"key\"].str.translate(\n",
    "        str.maketrans(\"\", \"\", \"!\\\"#$%&'()*+,¿./:;<=>?@[\\\\]^`{|}~\")\n",
    "    )\n",
    "\n",
    "    # Convierta el texto a una lista de tokens\n",
    "    df[\"key\"] = df[\"key\"].str.split()    \n",
    "\n",
    "    # Transforme cada palabra con un stemmer de Porter\n",
    "    stemmer = nltk.PorterStemmer()\n",
    "    df[\"key\"] = df[\"key\"].apply(lambda x: [stemmer.stem(word) for word in x])\n",
    "\n",
    "    # Ordene la lista de tokens y remueve duplicados\n",
    "    df[\"key\"] = df[\"key\"].apply(lambda x: sorted(set(x)))\n",
    "\n",
    "    # Convierta la lista de tokens a una cadena de texto separada por espacios\n",
    "    df[\"key\"] = df[\"key\"].str.join(\" \")\n",
    "\n",
    "    return df"
   ]
  },
  {
   "cell_type": "code",
   "execution_count": 19,
   "id": "db2c8c57",
   "metadata": {},
   "outputs": [],
   "source": [
    "def generate_cleaned_text(df, column_name):\n",
    "    \"\"\"Crea la columna 'cleaned_text' en el DataFrame\"\"\"\n",
    "\n",
    "    keys = df.copy()\n",
    "\n",
    "    # Ordene el dataframe por 'key' y 'text'\n",
    "    keys = keys.sort_values(by=[\"key\", column_name], ascending=[True, True])\n",
    "\n",
    "    # Seleccione la primera fila de cada grupo de 'key'\n",
    "    keys = df.drop_duplicates(subset=\"key\", keep=\"first\")\n",
    "\n",
    "    # Cree un diccionario con 'key' como clave y 'text' como valor\n",
    "    key_dict = dict(zip(keys[\"key\"], keys[column_name]))\n",
    "\n",
    "    # Cree la columna 'cleaned' usando el diccionario\n",
    "    df[\"cleaned_text\"] = df[\"key\"].map(key_dict)\n",
    "\n",
    "    df = df.drop(columns =[\"key\", column_name])\n",
    "    # df = df.drop(columns =[\"key\"])\n",
    "\n",
    "    df = df.rename(columns={\"cleaned_text\": column_name})\n",
    "\n",
    "    return df\n"
   ]
  },
  {
   "cell_type": "code",
   "execution_count": 20,
   "id": "9af517d0",
   "metadata": {},
   "outputs": [
    {
     "data": {
      "application/vnd.microsoft.datawrangler.viewer.v0+json": {
       "columns": [
        {
         "name": "index",
         "rawType": "int64",
         "type": "integer"
        },
        {
         "name": "sexo",
         "rawType": "object",
         "type": "string"
        },
        {
         "name": "tipo_de_emprendimiento",
         "rawType": "object",
         "type": "string"
        },
        {
         "name": "barrio",
         "rawType": "object",
         "type": "string"
        },
        {
         "name": "estrato",
         "rawType": "int64",
         "type": "integer"
        },
        {
         "name": "comuna_ciudadano",
         "rawType": "int64",
         "type": "integer"
        },
        {
         "name": "fecha_de_beneficio",
         "rawType": "object",
         "type": "string"
        },
        {
         "name": "monto_del_credito",
         "rawType": "object",
         "type": "string"
        },
        {
         "name": "línea_credito",
         "rawType": "object",
         "type": "string"
        },
        {
         "name": "idea_negocio",
         "rawType": "object",
         "type": "string"
        }
       ],
       "ref": "e12b4809-8356-49e7-a2c3-8f98ce36f6a5",
       "rows": [
        [
         "0",
         "masculino",
         "comercio",
         "prado",
         "3",
         "10",
         "13/07/2018",
         "5000000",
         "microempresarial",
         "fabrica"
        ],
        [
         "1",
         "femenino",
         "servicio",
         "barrio caicedo",
         "1",
         "9",
         "30/10/2017",
         "6000000",
         "microempresarial",
         "recreativo educativo"
        ],
        [
         "2",
         "femenino",
         "comercio",
         "aranjuez",
         "2",
         "4",
         "3/08/2017",
         "7300000",
         "microempresarial",
         "tienda"
        ],
        [
         "3",
         "masculino",
         "comercio",
         "cabecera san cristobal",
         "3",
         "60",
         "20/11/2017",
         "7000000",
         "microempresarial",
         "variedades"
        ],
        [
         "4",
         "femenino",
         "comercio",
         "robledo",
         "2",
         "7",
         "23/02/2017",
         "5000000",
         "microempresarial",
         "fabrica"
        ],
        [
         "5",
         "femenino",
         "comercio",
         "picachito",
         "1",
         "6",
         "2017/05/31",
         "7000000",
         "microempresarial",
         "variedades"
        ],
        [
         "6",
         "femenino",
         "industria",
         "guayabal",
         "3",
         "15",
         "20/02/2016",
         "$ 2,000,000.00",
         "microempresarial",
         "fabrica"
        ],
        [
         "7",
         "femenino",
         "comercio",
         "carpinelo",
         "1",
         "1",
         "14/02/2017",
         "3300000",
         "microempresarial",
         "tienda"
        ],
        [
         "8",
         "masculino",
         "comercio",
         "belalcazar",
         "2",
         "5",
         "7/05/2018",
         "7800000",
         "microempresarial",
         "variedades"
        ],
        [
         "9",
         "femenino",
         "comercio",
         "manrique central no. 1",
         "1",
         "4",
         "2018/05/3",
         "7800000",
         "microempresarial",
         "variedades"
        ]
       ],
       "shape": {
        "columns": 9,
        "rows": 10
       }
      },
      "text/html": [
       "<div>\n",
       "<style scoped>\n",
       "    .dataframe tbody tr th:only-of-type {\n",
       "        vertical-align: middle;\n",
       "    }\n",
       "\n",
       "    .dataframe tbody tr th {\n",
       "        vertical-align: top;\n",
       "    }\n",
       "\n",
       "    .dataframe thead th {\n",
       "        text-align: right;\n",
       "    }\n",
       "</style>\n",
       "<table border=\"1\" class=\"dataframe\">\n",
       "  <thead>\n",
       "    <tr style=\"text-align: right;\">\n",
       "      <th></th>\n",
       "      <th>sexo</th>\n",
       "      <th>tipo_de_emprendimiento</th>\n",
       "      <th>barrio</th>\n",
       "      <th>estrato</th>\n",
       "      <th>comuna_ciudadano</th>\n",
       "      <th>fecha_de_beneficio</th>\n",
       "      <th>monto_del_credito</th>\n",
       "      <th>línea_credito</th>\n",
       "      <th>idea_negocio</th>\n",
       "    </tr>\n",
       "  </thead>\n",
       "  <tbody>\n",
       "    <tr>\n",
       "      <th>0</th>\n",
       "      <td>masculino</td>\n",
       "      <td>comercio</td>\n",
       "      <td>prado</td>\n",
       "      <td>3</td>\n",
       "      <td>10</td>\n",
       "      <td>13/07/2018</td>\n",
       "      <td>5000000</td>\n",
       "      <td>microempresarial</td>\n",
       "      <td>fabrica</td>\n",
       "    </tr>\n",
       "    <tr>\n",
       "      <th>1</th>\n",
       "      <td>femenino</td>\n",
       "      <td>servicio</td>\n",
       "      <td>barrio caicedo</td>\n",
       "      <td>1</td>\n",
       "      <td>9</td>\n",
       "      <td>30/10/2017</td>\n",
       "      <td>6000000</td>\n",
       "      <td>microempresarial</td>\n",
       "      <td>recreativo educativo</td>\n",
       "    </tr>\n",
       "    <tr>\n",
       "      <th>2</th>\n",
       "      <td>femenino</td>\n",
       "      <td>comercio</td>\n",
       "      <td>aranjuez</td>\n",
       "      <td>2</td>\n",
       "      <td>4</td>\n",
       "      <td>3/08/2017</td>\n",
       "      <td>7300000</td>\n",
       "      <td>microempresarial</td>\n",
       "      <td>tienda</td>\n",
       "    </tr>\n",
       "    <tr>\n",
       "      <th>3</th>\n",
       "      <td>masculino</td>\n",
       "      <td>comercio</td>\n",
       "      <td>cabecera san cristobal</td>\n",
       "      <td>3</td>\n",
       "      <td>60</td>\n",
       "      <td>20/11/2017</td>\n",
       "      <td>7000000</td>\n",
       "      <td>microempresarial</td>\n",
       "      <td>variedades</td>\n",
       "    </tr>\n",
       "    <tr>\n",
       "      <th>4</th>\n",
       "      <td>femenino</td>\n",
       "      <td>comercio</td>\n",
       "      <td>robledo</td>\n",
       "      <td>2</td>\n",
       "      <td>7</td>\n",
       "      <td>23/02/2017</td>\n",
       "      <td>5000000</td>\n",
       "      <td>microempresarial</td>\n",
       "      <td>fabrica</td>\n",
       "    </tr>\n",
       "    <tr>\n",
       "      <th>5</th>\n",
       "      <td>femenino</td>\n",
       "      <td>comercio</td>\n",
       "      <td>picachito</td>\n",
       "      <td>1</td>\n",
       "      <td>6</td>\n",
       "      <td>2017/05/31</td>\n",
       "      <td>7000000</td>\n",
       "      <td>microempresarial</td>\n",
       "      <td>variedades</td>\n",
       "    </tr>\n",
       "    <tr>\n",
       "      <th>6</th>\n",
       "      <td>femenino</td>\n",
       "      <td>industria</td>\n",
       "      <td>guayabal</td>\n",
       "      <td>3</td>\n",
       "      <td>15</td>\n",
       "      <td>20/02/2016</td>\n",
       "      <td>$ 2,000,000.00</td>\n",
       "      <td>microempresarial</td>\n",
       "      <td>fabrica</td>\n",
       "    </tr>\n",
       "    <tr>\n",
       "      <th>7</th>\n",
       "      <td>femenino</td>\n",
       "      <td>comercio</td>\n",
       "      <td>carpinelo</td>\n",
       "      <td>1</td>\n",
       "      <td>1</td>\n",
       "      <td>14/02/2017</td>\n",
       "      <td>3300000</td>\n",
       "      <td>microempresarial</td>\n",
       "      <td>tienda</td>\n",
       "    </tr>\n",
       "    <tr>\n",
       "      <th>8</th>\n",
       "      <td>masculino</td>\n",
       "      <td>comercio</td>\n",
       "      <td>belalcazar</td>\n",
       "      <td>2</td>\n",
       "      <td>5</td>\n",
       "      <td>7/05/2018</td>\n",
       "      <td>7800000</td>\n",
       "      <td>microempresarial</td>\n",
       "      <td>variedades</td>\n",
       "    </tr>\n",
       "    <tr>\n",
       "      <th>9</th>\n",
       "      <td>femenino</td>\n",
       "      <td>comercio</td>\n",
       "      <td>manrique central no. 1</td>\n",
       "      <td>1</td>\n",
       "      <td>4</td>\n",
       "      <td>2018/05/3</td>\n",
       "      <td>7800000</td>\n",
       "      <td>microempresarial</td>\n",
       "      <td>variedades</td>\n",
       "    </tr>\n",
       "  </tbody>\n",
       "</table>\n",
       "</div>"
      ],
      "text/plain": [
       "        sexo tipo_de_emprendimiento                  barrio  estrato  \\\n",
       "0  masculino               comercio                   prado        3   \n",
       "1   femenino               servicio          barrio caicedo        1   \n",
       "2   femenino               comercio                aranjuez        2   \n",
       "3  masculino               comercio  cabecera san cristobal        3   \n",
       "4   femenino               comercio                 robledo        2   \n",
       "5   femenino               comercio               picachito        1   \n",
       "6   femenino              industria                guayabal        3   \n",
       "7   femenino               comercio               carpinelo        1   \n",
       "8  masculino               comercio              belalcazar        2   \n",
       "9   femenino               comercio  manrique central no. 1        1   \n",
       "\n",
       "   comuna_ciudadano fecha_de_beneficio monto_del_credito     línea_credito  \\\n",
       "0                10         13/07/2018           5000000  microempresarial   \n",
       "1                 9         30/10/2017           6000000  microempresarial   \n",
       "2                 4          3/08/2017           7300000  microempresarial   \n",
       "3                60         20/11/2017           7000000  microempresarial   \n",
       "4                 7         23/02/2017           5000000  microempresarial   \n",
       "5                 6         2017/05/31           7000000  microempresarial   \n",
       "6                15         20/02/2016    $ 2,000,000.00  microempresarial   \n",
       "7                 1         14/02/2017           3300000  microempresarial   \n",
       "8                 5          7/05/2018           7800000  microempresarial   \n",
       "9                 4          2018/05/3           7800000  microempresarial   \n",
       "\n",
       "           idea_negocio  \n",
       "0               fabrica  \n",
       "1  recreativo educativo  \n",
       "2                tienda  \n",
       "3            variedades  \n",
       "4               fabrica  \n",
       "5            variedades  \n",
       "6               fabrica  \n",
       "7                tienda  \n",
       "8            variedades  \n",
       "9            variedades  "
      ]
     },
     "execution_count": 20,
     "metadata": {},
     "output_type": "execute_result"
    }
   ],
   "source": [
    "df = create_normalized_key(df, \"idea_negocio\")\n",
    "df = generate_cleaned_text(df, \"idea_negocio\")\n",
    "df[\"idea_negocio\"] = df[\"idea_negocio\"].apply(eliminar_stopwords)\n",
    "df.head(10)"
   ]
  },
  {
   "cell_type": "code",
   "execution_count": 21,
   "id": "4f436cd7",
   "metadata": {},
   "outputs": [
    {
     "data": {
      "text/plain": [
       "75"
      ]
     },
     "execution_count": 21,
     "metadata": {},
     "output_type": "execute_result"
    }
   ],
   "source": [
    "len(df.idea_negocio.unique())"
   ]
  },
  {
   "cell_type": "markdown",
   "id": "9f387153",
   "metadata": {},
   "source": [
    "## Barrio"
   ]
  },
  {
   "cell_type": "code",
   "execution_count": 22,
   "id": "d38773fb",
   "metadata": {},
   "outputs": [
    {
     "data": {
      "text/plain": [
       "225"
      ]
     },
     "execution_count": 22,
     "metadata": {},
     "output_type": "execute_result"
    }
   ],
   "source": [
    "df[\"barrio\"] = df[\"barrio\"].str.lower()\n",
    "df[\"barrio\"] = df[\"barrio\"].str.replace(r\"[_-]\", \" \", regex=True)\n",
    "len(df.barrio.unique())"
   ]
  },
  {
   "cell_type": "code",
   "execution_count": 23,
   "id": "1c38bfe9",
   "metadata": {},
   "outputs": [
    {
     "data": {
      "application/vnd.microsoft.datawrangler.viewer.v0+json": {
       "columns": [
        {
         "name": "index",
         "rawType": "object",
         "type": "string"
        },
        {
         "name": "0",
         "rawType": "object",
         "type": "unknown"
        }
       ],
       "ref": "2fbad366-6ee0-407f-8879-0d81046c52b3",
       "rows": [
        [
         "sexo",
         "object"
        ],
        [
         "tipo_de_emprendimiento",
         "object"
        ],
        [
         "barrio",
         "object"
        ],
        [
         "estrato",
         "int64"
        ],
        [
         "comuna_ciudadano",
         "int64"
        ],
        [
         "fecha_de_beneficio",
         "object"
        ],
        [
         "monto_del_credito",
         "object"
        ],
        [
         "línea_credito",
         "object"
        ],
        [
         "idea_negocio",
         "object"
        ]
       ],
       "shape": {
        "columns": 1,
        "rows": 9
       }
      },
      "text/plain": [
       "sexo                      object\n",
       "tipo_de_emprendimiento    object\n",
       "barrio                    object\n",
       "estrato                    int64\n",
       "comuna_ciudadano           int64\n",
       "fecha_de_beneficio        object\n",
       "monto_del_credito         object\n",
       "línea_credito             object\n",
       "idea_negocio              object\n",
       "dtype: object"
      ]
     },
     "execution_count": 23,
     "metadata": {},
     "output_type": "execute_result"
    }
   ],
   "source": [
    "df.dtypes"
   ]
  },
  {
   "cell_type": "markdown",
   "id": "e7c83d18",
   "metadata": {},
   "source": [
    "## monto_del_credito"
   ]
  },
  {
   "cell_type": "code",
   "execution_count": 24,
   "id": "43dfb62e",
   "metadata": {},
   "outputs": [
    {
     "data": {
      "application/vnd.microsoft.datawrangler.viewer.v0+json": {
       "columns": [
        {
         "name": "index",
         "rawType": "int64",
         "type": "integer"
        },
        {
         "name": "sexo",
         "rawType": "object",
         "type": "string"
        },
        {
         "name": "tipo_de_emprendimiento",
         "rawType": "object",
         "type": "string"
        },
        {
         "name": "barrio",
         "rawType": "object",
         "type": "string"
        },
        {
         "name": "estrato",
         "rawType": "int64",
         "type": "integer"
        },
        {
         "name": "comuna_ciudadano",
         "rawType": "int64",
         "type": "integer"
        },
        {
         "name": "fecha_de_beneficio",
         "rawType": "object",
         "type": "string"
        },
        {
         "name": "monto_del_credito",
         "rawType": "object",
         "type": "string"
        },
        {
         "name": "línea_credito",
         "rawType": "object",
         "type": "string"
        },
        {
         "name": "idea_negocio",
         "rawType": "object",
         "type": "string"
        }
       ],
       "ref": "49a075e9-8476-4a1b-87fb-10b9a8661a9b",
       "rows": [
        [
         "0",
         "masculino",
         "comercio",
         "prado",
         "3",
         "10",
         "13/07/2018",
         "5000000",
         "microempresarial",
         "fabrica"
        ],
        [
         "1",
         "femenino",
         "servicio",
         "barrio caicedo",
         "1",
         "9",
         "30/10/2017",
         "6000000",
         "microempresarial",
         "recreativo educativo"
        ],
        [
         "2",
         "femenino",
         "comercio",
         "aranjuez",
         "2",
         "4",
         "3/08/2017",
         "7300000",
         "microempresarial",
         "tienda"
        ],
        [
         "3",
         "masculino",
         "comercio",
         "cabecera san cristobal",
         "3",
         "60",
         "20/11/2017",
         "7000000",
         "microempresarial",
         "variedades"
        ],
        [
         "4",
         "femenino",
         "comercio",
         "robledo",
         "2",
         "7",
         "23/02/2017",
         "5000000",
         "microempresarial",
         "fabrica"
        ]
       ],
       "shape": {
        "columns": 9,
        "rows": 5
       }
      },
      "text/html": [
       "<div>\n",
       "<style scoped>\n",
       "    .dataframe tbody tr th:only-of-type {\n",
       "        vertical-align: middle;\n",
       "    }\n",
       "\n",
       "    .dataframe tbody tr th {\n",
       "        vertical-align: top;\n",
       "    }\n",
       "\n",
       "    .dataframe thead th {\n",
       "        text-align: right;\n",
       "    }\n",
       "</style>\n",
       "<table border=\"1\" class=\"dataframe\">\n",
       "  <thead>\n",
       "    <tr style=\"text-align: right;\">\n",
       "      <th></th>\n",
       "      <th>sexo</th>\n",
       "      <th>tipo_de_emprendimiento</th>\n",
       "      <th>barrio</th>\n",
       "      <th>estrato</th>\n",
       "      <th>comuna_ciudadano</th>\n",
       "      <th>fecha_de_beneficio</th>\n",
       "      <th>monto_del_credito</th>\n",
       "      <th>línea_credito</th>\n",
       "      <th>idea_negocio</th>\n",
       "    </tr>\n",
       "  </thead>\n",
       "  <tbody>\n",
       "    <tr>\n",
       "      <th>0</th>\n",
       "      <td>masculino</td>\n",
       "      <td>comercio</td>\n",
       "      <td>prado</td>\n",
       "      <td>3</td>\n",
       "      <td>10</td>\n",
       "      <td>13/07/2018</td>\n",
       "      <td>5000000</td>\n",
       "      <td>microempresarial</td>\n",
       "      <td>fabrica</td>\n",
       "    </tr>\n",
       "    <tr>\n",
       "      <th>1</th>\n",
       "      <td>femenino</td>\n",
       "      <td>servicio</td>\n",
       "      <td>barrio caicedo</td>\n",
       "      <td>1</td>\n",
       "      <td>9</td>\n",
       "      <td>30/10/2017</td>\n",
       "      <td>6000000</td>\n",
       "      <td>microempresarial</td>\n",
       "      <td>recreativo educativo</td>\n",
       "    </tr>\n",
       "    <tr>\n",
       "      <th>2</th>\n",
       "      <td>femenino</td>\n",
       "      <td>comercio</td>\n",
       "      <td>aranjuez</td>\n",
       "      <td>2</td>\n",
       "      <td>4</td>\n",
       "      <td>3/08/2017</td>\n",
       "      <td>7300000</td>\n",
       "      <td>microempresarial</td>\n",
       "      <td>tienda</td>\n",
       "    </tr>\n",
       "    <tr>\n",
       "      <th>3</th>\n",
       "      <td>masculino</td>\n",
       "      <td>comercio</td>\n",
       "      <td>cabecera san cristobal</td>\n",
       "      <td>3</td>\n",
       "      <td>60</td>\n",
       "      <td>20/11/2017</td>\n",
       "      <td>7000000</td>\n",
       "      <td>microempresarial</td>\n",
       "      <td>variedades</td>\n",
       "    </tr>\n",
       "    <tr>\n",
       "      <th>4</th>\n",
       "      <td>femenino</td>\n",
       "      <td>comercio</td>\n",
       "      <td>robledo</td>\n",
       "      <td>2</td>\n",
       "      <td>7</td>\n",
       "      <td>23/02/2017</td>\n",
       "      <td>5000000</td>\n",
       "      <td>microempresarial</td>\n",
       "      <td>fabrica</td>\n",
       "    </tr>\n",
       "  </tbody>\n",
       "</table>\n",
       "</div>"
      ],
      "text/plain": [
       "        sexo tipo_de_emprendimiento                  barrio  estrato  \\\n",
       "0  masculino               comercio                   prado        3   \n",
       "1   femenino               servicio          barrio caicedo        1   \n",
       "2   femenino               comercio                aranjuez        2   \n",
       "3  masculino               comercio  cabecera san cristobal        3   \n",
       "4   femenino               comercio                 robledo        2   \n",
       "\n",
       "   comuna_ciudadano fecha_de_beneficio monto_del_credito     línea_credito  \\\n",
       "0                10         13/07/2018           5000000  microempresarial   \n",
       "1                 9         30/10/2017           6000000  microempresarial   \n",
       "2                 4          3/08/2017           7300000  microempresarial   \n",
       "3                60         20/11/2017           7000000  microempresarial   \n",
       "4                 7         23/02/2017           5000000  microempresarial   \n",
       "\n",
       "           idea_negocio  \n",
       "0               fabrica  \n",
       "1  recreativo educativo  \n",
       "2                tienda  \n",
       "3            variedades  \n",
       "4               fabrica  "
      ]
     },
     "execution_count": 24,
     "metadata": {},
     "output_type": "execute_result"
    }
   ],
   "source": [
    "df[\"monto_del_credito\"] = df[\"monto_del_credito\"].map(\n",
    "    lambda x: x.replace(\"$\", \"\").strip() if isinstance(x, str) else x\n",
    ")\n",
    "df.head()"
   ]
  },
  {
   "cell_type": "code",
   "execution_count": 25,
   "id": "f23b9204",
   "metadata": {},
   "outputs": [
    {
     "data": {
      "application/vnd.microsoft.datawrangler.viewer.v0+json": {
       "columns": [
        {
         "name": "index",
         "rawType": "int64",
         "type": "integer"
        },
        {
         "name": "sexo",
         "rawType": "object",
         "type": "string"
        },
        {
         "name": "tipo_de_emprendimiento",
         "rawType": "object",
         "type": "string"
        },
        {
         "name": "barrio",
         "rawType": "object",
         "type": "string"
        },
        {
         "name": "estrato",
         "rawType": "int64",
         "type": "integer"
        },
        {
         "name": "comuna_ciudadano",
         "rawType": "int64",
         "type": "integer"
        },
        {
         "name": "fecha_de_beneficio",
         "rawType": "object",
         "type": "string"
        },
        {
         "name": "monto_del_credito",
         "rawType": "float64",
         "type": "float"
        },
        {
         "name": "línea_credito",
         "rawType": "object",
         "type": "string"
        },
        {
         "name": "idea_negocio",
         "rawType": "object",
         "type": "string"
        }
       ],
       "ref": "0438468c-3d41-4b66-83e1-2cece63617f2",
       "rows": [
        [
         "0",
         "masculino",
         "comercio",
         "prado",
         "3",
         "10",
         "13/07/2018",
         "5000000.0",
         "microempresarial",
         "fabrica"
        ],
        [
         "1",
         "femenino",
         "servicio",
         "barrio caicedo",
         "1",
         "9",
         "30/10/2017",
         "6000000.0",
         "microempresarial",
         "recreativo educativo"
        ],
        [
         "2",
         "femenino",
         "comercio",
         "aranjuez",
         "2",
         "4",
         "3/08/2017",
         "7300000.0",
         "microempresarial",
         "tienda"
        ],
        [
         "3",
         "masculino",
         "comercio",
         "cabecera san cristobal",
         "3",
         "60",
         "20/11/2017",
         "7000000.0",
         "microempresarial",
         "variedades"
        ],
        [
         "4",
         "femenino",
         "comercio",
         "robledo",
         "2",
         "7",
         "23/02/2017",
         "5000000.0",
         "microempresarial",
         "fabrica"
        ]
       ],
       "shape": {
        "columns": 9,
        "rows": 5
       }
      },
      "text/html": [
       "<div>\n",
       "<style scoped>\n",
       "    .dataframe tbody tr th:only-of-type {\n",
       "        vertical-align: middle;\n",
       "    }\n",
       "\n",
       "    .dataframe tbody tr th {\n",
       "        vertical-align: top;\n",
       "    }\n",
       "\n",
       "    .dataframe thead th {\n",
       "        text-align: right;\n",
       "    }\n",
       "</style>\n",
       "<table border=\"1\" class=\"dataframe\">\n",
       "  <thead>\n",
       "    <tr style=\"text-align: right;\">\n",
       "      <th></th>\n",
       "      <th>sexo</th>\n",
       "      <th>tipo_de_emprendimiento</th>\n",
       "      <th>barrio</th>\n",
       "      <th>estrato</th>\n",
       "      <th>comuna_ciudadano</th>\n",
       "      <th>fecha_de_beneficio</th>\n",
       "      <th>monto_del_credito</th>\n",
       "      <th>línea_credito</th>\n",
       "      <th>idea_negocio</th>\n",
       "    </tr>\n",
       "  </thead>\n",
       "  <tbody>\n",
       "    <tr>\n",
       "      <th>0</th>\n",
       "      <td>masculino</td>\n",
       "      <td>comercio</td>\n",
       "      <td>prado</td>\n",
       "      <td>3</td>\n",
       "      <td>10</td>\n",
       "      <td>13/07/2018</td>\n",
       "      <td>5000000.0</td>\n",
       "      <td>microempresarial</td>\n",
       "      <td>fabrica</td>\n",
       "    </tr>\n",
       "    <tr>\n",
       "      <th>1</th>\n",
       "      <td>femenino</td>\n",
       "      <td>servicio</td>\n",
       "      <td>barrio caicedo</td>\n",
       "      <td>1</td>\n",
       "      <td>9</td>\n",
       "      <td>30/10/2017</td>\n",
       "      <td>6000000.0</td>\n",
       "      <td>microempresarial</td>\n",
       "      <td>recreativo educativo</td>\n",
       "    </tr>\n",
       "    <tr>\n",
       "      <th>2</th>\n",
       "      <td>femenino</td>\n",
       "      <td>comercio</td>\n",
       "      <td>aranjuez</td>\n",
       "      <td>2</td>\n",
       "      <td>4</td>\n",
       "      <td>3/08/2017</td>\n",
       "      <td>7300000.0</td>\n",
       "      <td>microempresarial</td>\n",
       "      <td>tienda</td>\n",
       "    </tr>\n",
       "    <tr>\n",
       "      <th>3</th>\n",
       "      <td>masculino</td>\n",
       "      <td>comercio</td>\n",
       "      <td>cabecera san cristobal</td>\n",
       "      <td>3</td>\n",
       "      <td>60</td>\n",
       "      <td>20/11/2017</td>\n",
       "      <td>7000000.0</td>\n",
       "      <td>microempresarial</td>\n",
       "      <td>variedades</td>\n",
       "    </tr>\n",
       "    <tr>\n",
       "      <th>4</th>\n",
       "      <td>femenino</td>\n",
       "      <td>comercio</td>\n",
       "      <td>robledo</td>\n",
       "      <td>2</td>\n",
       "      <td>7</td>\n",
       "      <td>23/02/2017</td>\n",
       "      <td>5000000.0</td>\n",
       "      <td>microempresarial</td>\n",
       "      <td>fabrica</td>\n",
       "    </tr>\n",
       "  </tbody>\n",
       "</table>\n",
       "</div>"
      ],
      "text/plain": [
       "        sexo tipo_de_emprendimiento                  barrio  estrato  \\\n",
       "0  masculino               comercio                   prado        3   \n",
       "1   femenino               servicio          barrio caicedo        1   \n",
       "2   femenino               comercio                aranjuez        2   \n",
       "3  masculino               comercio  cabecera san cristobal        3   \n",
       "4   femenino               comercio                 robledo        2   \n",
       "\n",
       "   comuna_ciudadano fecha_de_beneficio  monto_del_credito     línea_credito  \\\n",
       "0                10         13/07/2018          5000000.0  microempresarial   \n",
       "1                 9         30/10/2017          6000000.0  microempresarial   \n",
       "2                 4          3/08/2017          7300000.0  microempresarial   \n",
       "3                60         20/11/2017          7000000.0  microempresarial   \n",
       "4                 7         23/02/2017          5000000.0  microempresarial   \n",
       "\n",
       "           idea_negocio  \n",
       "0               fabrica  \n",
       "1  recreativo educativo  \n",
       "2                tienda  \n",
       "3            variedades  \n",
       "4               fabrica  "
      ]
     },
     "execution_count": 25,
     "metadata": {},
     "output_type": "execute_result"
    }
   ],
   "source": [
    "# Se elimina el '.' de los miles\n",
    "df[\"monto_del_credito\"] = df[\"monto_del_credito\"].apply(\n",
    "    lambda x: float(x.replace(\",\", \"\")) if isinstance(x, str) else x\n",
    ")\n",
    "df.head()\n"
   ]
  },
  {
   "cell_type": "markdown",
   "id": "9e8798d1",
   "metadata": {},
   "source": [
    "## linea_credito"
   ]
  },
  {
   "cell_type": "code",
   "execution_count": 26,
   "id": "28078525",
   "metadata": {},
   "outputs": [
    {
     "data": {
      "application/vnd.microsoft.datawrangler.viewer.v0+json": {
       "columns": [
        {
         "name": "index",
         "rawType": "int64",
         "type": "integer"
        },
        {
         "name": "sexo",
         "rawType": "object",
         "type": "string"
        },
        {
         "name": "tipo_de_emprendimiento",
         "rawType": "object",
         "type": "string"
        },
        {
         "name": "barrio",
         "rawType": "object",
         "type": "string"
        },
        {
         "name": "estrato",
         "rawType": "int64",
         "type": "integer"
        },
        {
         "name": "comuna_ciudadano",
         "rawType": "int64",
         "type": "integer"
        },
        {
         "name": "fecha_de_beneficio",
         "rawType": "object",
         "type": "string"
        },
        {
         "name": "monto_del_credito",
         "rawType": "float64",
         "type": "float"
        },
        {
         "name": "idea_negocio",
         "rawType": "object",
         "type": "string"
        },
        {
         "name": "línea_credito",
         "rawType": "object",
         "type": "string"
        }
       ],
       "ref": "30a79260-a86f-47d6-a6f7-0c78cb333994",
       "rows": [
        [
         "0",
         "masculino",
         "comercio",
         "prado",
         "3",
         "10",
         "13/07/2018",
         "5000000.0",
         "fabrica",
         "microempresarial"
        ],
        [
         "1",
         "femenino",
         "servicio",
         "barrio caicedo",
         "1",
         "9",
         "30/10/2017",
         "6000000.0",
         "recreativo educativo",
         "microempresarial"
        ],
        [
         "2",
         "femenino",
         "comercio",
         "aranjuez",
         "2",
         "4",
         "3/08/2017",
         "7300000.0",
         "tienda",
         "microempresarial"
        ],
        [
         "3",
         "masculino",
         "comercio",
         "cabecera san cristobal",
         "3",
         "60",
         "20/11/2017",
         "7000000.0",
         "variedades",
         "microempresarial"
        ],
        [
         "4",
         "femenino",
         "comercio",
         "robledo",
         "2",
         "7",
         "23/02/2017",
         "5000000.0",
         "fabrica",
         "microempresarial"
        ]
       ],
       "shape": {
        "columns": 9,
        "rows": 5
       }
      },
      "text/html": [
       "<div>\n",
       "<style scoped>\n",
       "    .dataframe tbody tr th:only-of-type {\n",
       "        vertical-align: middle;\n",
       "    }\n",
       "\n",
       "    .dataframe tbody tr th {\n",
       "        vertical-align: top;\n",
       "    }\n",
       "\n",
       "    .dataframe thead th {\n",
       "        text-align: right;\n",
       "    }\n",
       "</style>\n",
       "<table border=\"1\" class=\"dataframe\">\n",
       "  <thead>\n",
       "    <tr style=\"text-align: right;\">\n",
       "      <th></th>\n",
       "      <th>sexo</th>\n",
       "      <th>tipo_de_emprendimiento</th>\n",
       "      <th>barrio</th>\n",
       "      <th>estrato</th>\n",
       "      <th>comuna_ciudadano</th>\n",
       "      <th>fecha_de_beneficio</th>\n",
       "      <th>monto_del_credito</th>\n",
       "      <th>idea_negocio</th>\n",
       "      <th>línea_credito</th>\n",
       "    </tr>\n",
       "  </thead>\n",
       "  <tbody>\n",
       "    <tr>\n",
       "      <th>0</th>\n",
       "      <td>masculino</td>\n",
       "      <td>comercio</td>\n",
       "      <td>prado</td>\n",
       "      <td>3</td>\n",
       "      <td>10</td>\n",
       "      <td>13/07/2018</td>\n",
       "      <td>5000000.0</td>\n",
       "      <td>fabrica</td>\n",
       "      <td>microempresarial</td>\n",
       "    </tr>\n",
       "    <tr>\n",
       "      <th>1</th>\n",
       "      <td>femenino</td>\n",
       "      <td>servicio</td>\n",
       "      <td>barrio caicedo</td>\n",
       "      <td>1</td>\n",
       "      <td>9</td>\n",
       "      <td>30/10/2017</td>\n",
       "      <td>6000000.0</td>\n",
       "      <td>recreativo educativo</td>\n",
       "      <td>microempresarial</td>\n",
       "    </tr>\n",
       "    <tr>\n",
       "      <th>2</th>\n",
       "      <td>femenino</td>\n",
       "      <td>comercio</td>\n",
       "      <td>aranjuez</td>\n",
       "      <td>2</td>\n",
       "      <td>4</td>\n",
       "      <td>3/08/2017</td>\n",
       "      <td>7300000.0</td>\n",
       "      <td>tienda</td>\n",
       "      <td>microempresarial</td>\n",
       "    </tr>\n",
       "    <tr>\n",
       "      <th>3</th>\n",
       "      <td>masculino</td>\n",
       "      <td>comercio</td>\n",
       "      <td>cabecera san cristobal</td>\n",
       "      <td>3</td>\n",
       "      <td>60</td>\n",
       "      <td>20/11/2017</td>\n",
       "      <td>7000000.0</td>\n",
       "      <td>variedades</td>\n",
       "      <td>microempresarial</td>\n",
       "    </tr>\n",
       "    <tr>\n",
       "      <th>4</th>\n",
       "      <td>femenino</td>\n",
       "      <td>comercio</td>\n",
       "      <td>robledo</td>\n",
       "      <td>2</td>\n",
       "      <td>7</td>\n",
       "      <td>23/02/2017</td>\n",
       "      <td>5000000.0</td>\n",
       "      <td>fabrica</td>\n",
       "      <td>microempresarial</td>\n",
       "    </tr>\n",
       "  </tbody>\n",
       "</table>\n",
       "</div>"
      ],
      "text/plain": [
       "        sexo tipo_de_emprendimiento                  barrio  estrato  \\\n",
       "0  masculino               comercio                   prado        3   \n",
       "1   femenino               servicio          barrio caicedo        1   \n",
       "2   femenino               comercio                aranjuez        2   \n",
       "3  masculino               comercio  cabecera san cristobal        3   \n",
       "4   femenino               comercio                 robledo        2   \n",
       "\n",
       "   comuna_ciudadano fecha_de_beneficio  monto_del_credito  \\\n",
       "0                10         13/07/2018          5000000.0   \n",
       "1                 9         30/10/2017          6000000.0   \n",
       "2                 4          3/08/2017          7300000.0   \n",
       "3                60         20/11/2017          7000000.0   \n",
       "4                 7         23/02/2017          5000000.0   \n",
       "\n",
       "           idea_negocio     línea_credito  \n",
       "0               fabrica  microempresarial  \n",
       "1  recreativo educativo  microempresarial  \n",
       "2                tienda  microempresarial  \n",
       "3            variedades  microempresarial  \n",
       "4               fabrica  microempresarial  "
      ]
     },
     "execution_count": 26,
     "metadata": {},
     "output_type": "execute_result"
    }
   ],
   "source": [
    "df = create_normalized_key(df, \"línea_credito\")\n",
    "df = generate_cleaned_text(df, \"línea_credito\")\n",
    "df[\"línea_credito\"] = df[\"línea_credito\"].apply(eliminar_stopwords)\n",
    "df.head()"
   ]
  },
  {
   "cell_type": "code",
   "execution_count": 27,
   "id": "f0ab40f0",
   "metadata": {},
   "outputs": [
    {
     "data": {
      "text/plain": [
       "array(['microempresarial', 'agropecuaria', 'credioportuno',\n",
       "       'empresarial ed', 'juridica', 'soli diaria', 'solidaria',\n",
       "       'ayacucho formal', 'fomento agropecuario'], dtype=object)"
      ]
     },
     "execution_count": 27,
     "metadata": {},
     "output_type": "execute_result"
    }
   ],
   "source": [
    "len(df.línea_credito.unique())\n",
    "df.línea_credito.unique()"
   ]
  },
  {
   "cell_type": "markdown",
   "id": "0722613a",
   "metadata": {},
   "source": [
    "## fecha_de_beneficio"
   ]
  },
  {
   "cell_type": "code",
   "execution_count": 28,
   "id": "8211a66a",
   "metadata": {},
   "outputs": [
    {
     "data": {
      "text/plain": [
       "(10716, 9)"
      ]
     },
     "execution_count": 28,
     "metadata": {},
     "output_type": "execute_result"
    }
   ],
   "source": [
    "df.shape #(10475, 9)"
   ]
  },
  {
   "cell_type": "code",
   "execution_count": 29,
   "id": "720a1dcb",
   "metadata": {},
   "outputs": [
    {
     "name": "stdout",
     "output_type": "stream",
     "text": [
      "son menores 2018/05/3\n",
      "son menores 2017/02/8\n",
      "son menores 2017/03/2\n",
      "son menores 2018/06/7\n",
      "son menores 2018/07/9\n",
      "son menores 2018/03/6\n",
      "son menores 2018/04/3\n",
      "son menores 2017/12/6\n",
      "son menores 2018/05/4\n",
      "son menores 2017/08/10\n",
      "son menores 2017/02/1\n",
      "son iguales 2018/06/6\n",
      "son menores 2017/10/12\n",
      "son menores 2016/09/1\n",
      "son menores 2017/10/4\n",
      "son menores 2018/04/9\n",
      "son menores 2016/10/12\n",
      "son menores 2016/06/10\n",
      "son menores 2017/05/10\n",
      "son menores 2018/11/1\n",
      "son menores 2017/11/2\n",
      "son menores 2016/04/7\n",
      "son menores 2018/07/6\n",
      "son menores 2018/04/3\n",
      "son menores 2018/01/3\n",
      "son menores 2017/03/10\n",
      "son menores 2016/11/8\n",
      "son menores 2018/07/3\n",
      "son menores 2017/09/4\n",
      "son menores 2017/08/1\n",
      "son menores 2016/10/6\n",
      "son iguales 2017/08/8\n",
      "son menores 2018/03/2\n",
      "son menores 2017/01/10\n",
      "son menores 2018/11/1\n",
      "son menores 2017/04/3\n",
      "son menores 2017/06/2\n",
      "son menores 2017/06/2\n",
      "son menores 2018/06/7\n",
      "son menores 2017/02/1\n",
      "son menores 2019/02/7\n",
      "son menores 2017/08/4\n",
      "son menores 2018/03/8\n",
      "son menores 2018/05/7\n",
      "son menores 2018/04/11\n",
      "son menores 2016/08/5\n",
      "son menores 2018/07/5\n",
      "son menores 2017/04/7\n",
      "son menores 2016/05/10\n",
      "son iguales 2018/04/4\n",
      "son menores 2018/05/9\n",
      "son menores 2018/10/11\n",
      "son menores 2016/07/8\n",
      "son menores 2017/09/8\n",
      "son menores 2017/09/6\n",
      "son menores 2017/11/8\n",
      "son menores 2017/08/4\n",
      "son menores 2017/08/2\n",
      "son menores 2018/06/1\n",
      "son menores 2017/04/3\n",
      "son menores 2018/09/5\n",
      "son menores 2019/03/5\n",
      "son menores 2018/04/9\n",
      "son iguales 2016/07/7\n",
      "son menores 2018/09/4\n",
      "son menores 2017/04/5\n",
      "son iguales 2017/04/4\n",
      "son menores 2018/03/9\n",
      "son menores 2018/11/2\n",
      "son menores 2018/05/2\n",
      "son menores 2016/06/3\n",
      "son menores 2017/02/9\n",
      "son menores 2019/06/5\n",
      "son menores 2016/10/5\n",
      "son menores 2018/07/9\n",
      "son menores 2019/05/3\n",
      "son menores 2018/04/9\n",
      "son menores 2018/08/6\n",
      "son iguales 2019/06/6\n",
      "son iguales 2017/03/3\n",
      "son menores 2017/09/5\n",
      "son menores 2017/08/10\n",
      "son menores 2017/10/5\n",
      "son menores 2018/11/9\n",
      "son menores 2016/03/2\n",
      "son iguales 2016/10/10\n",
      "son menores 2018/06/7\n",
      "son iguales 2018/04/4\n",
      "son menores 2016/11/4\n",
      "son menores 2017/11/8\n",
      "son menores 2016/08/1\n",
      "son menores 2017/10/12\n",
      "son menores 2018/08/1\n",
      "son menores 2017/11/7\n",
      "son menores 2018/09/3\n",
      "son iguales 2017/02/2\n",
      "son menores 2016/12/7\n",
      "son menores 2018/07/4\n",
      "son menores 2018/07/12\n",
      "son menores 2017/08/1\n",
      "son menores 2018/12/11\n",
      "son menores 2018/11/8\n",
      "son menores 2018/05/11\n",
      "son menores 2017/02/10\n",
      "son iguales 2017/02/2\n",
      "son menores 2016/12/1\n",
      "son menores 2019/04/5\n",
      "son menores 2016/02/4\n",
      "son menores 2017/10/12\n",
      "son menores 2018/07/6\n",
      "son menores 2018/03/2\n",
      "son menores 2018/12/5\n",
      "son menores 2016/10/11\n",
      "son menores 2018/07/12\n",
      "son menores 2016/06/8\n",
      "son menores 2018/11/1\n",
      "son menores 2019/03/12\n",
      "son menores 2019/01/9\n",
      "son menores 2018/03/2\n",
      "son menores 2018/04/10\n",
      "son menores 2018/09/4\n",
      "son menores 2016/09/12\n",
      "son menores 2016/06/3\n",
      "son iguales 2018/08/8\n",
      "son menores 2016/11/8\n",
      "son menores 2018/08/6\n",
      "son menores 2016/04/7\n",
      "son menores 2017/06/5\n",
      "son menores 2017/04/3\n",
      "son menores 2018/11/6\n",
      "son menores 2016/08/12\n",
      "son menores 2018/07/11\n",
      "son menores 2016/03/7\n",
      "son menores 2018/09/5\n",
      "son menores 2016/08/9\n",
      "son menores 2017/10/12\n",
      "son menores 2018/02/1\n",
      "son menores 2017/10/2\n",
      "son menores 2016/08/10\n",
      "son menores 2018/02/5\n",
      "son menores 2018/03/9\n",
      "son menores 2016/10/4\n",
      "son menores 2018/09/4\n",
      "son menores 2018/10/3\n",
      "son menores 2018/03/1\n",
      "son menores 2017/06/8\n",
      "son menores 2017/06/7\n",
      "son menores 2018/02/6\n",
      "son menores 2016/09/8\n",
      "son menores 2018/07/12\n",
      "son menores 2016/08/9\n",
      "son menores 2016/11/9\n",
      "son menores 2017/10/6\n",
      "son menores 2018/04/3\n",
      "son menores 2018/12/4\n",
      "son menores 2016/03/1\n",
      "son iguales 2016/07/7\n",
      "son menores 2019/01/9\n",
      "son menores 2016/07/12\n",
      "son menores 2017/07/5\n",
      "son menores 2017/02/7\n",
      "son menores 2017/12/7\n",
      "son menores 2017/07/11\n",
      "son menores 2016/06/3\n",
      "son menores 2017/11/1\n",
      "son menores 2016/02/9\n",
      "son menores 2018/04/3\n",
      "son menores 2017/08/9\n",
      "son menores 2016/06/3\n",
      "son menores 2016/12/6\n",
      "son menores 2018/06/1\n",
      "son menores 2018/06/8\n",
      "son menores 2017/11/10\n",
      "son menores 2019/05/8\n",
      "son menores 2017/05/3\n",
      "son menores 2018/07/12\n",
      "son menores 2018/03/7\n",
      "son menores 2018/07/10\n",
      "son menores 2018/05/8\n",
      "son menores 2016/12/7\n",
      "son menores 2017/09/5\n",
      "son menores 2017/01/6\n",
      "son menores 2017/01/10\n",
      "son menores 2017/01/10\n",
      "son menores 2017/11/8\n",
      "son menores 2018/05/8\n",
      "son iguales 2019/06/6\n",
      "son menores 2018/11/6\n",
      "son menores 2017/04/5\n",
      "son menores 2017/10/6\n",
      "son menores 2016/12/1\n",
      "son menores 2018/12/5\n",
      "son menores 2016/08/1\n",
      "son menores 2018/03/6\n",
      "son menores 2017/08/2\n",
      "son menores 2017/05/3\n",
      "son menores 2017/08/10\n",
      "son menores 2018/06/8\n",
      "son menores 2016/04/1\n",
      "son menores 2018/11/7\n",
      "son menores 2017/10/4\n",
      "son menores 2018/02/7\n",
      "son menores 2018/01/11\n",
      "son menores 2018/12/5\n",
      "son menores 2017/06/8\n",
      "son menores 2017/09/6\n",
      "son menores 2017/01/4\n",
      "son menores 2017/01/4\n",
      "son menores 2019/01/4\n",
      "son menores 2018/06/7\n",
      "son iguales 2016/02/2\n",
      "son menores 2018/06/5\n",
      "son menores 2017/11/7\n",
      "son menores 2017/02/6\n",
      "son menores 2017/04/6\n",
      "son menores 2018/02/8\n",
      "son menores 2017/06/8\n",
      "son menores 2018/05/2\n",
      "son menores 2019/06/11\n",
      "son menores 2018/03/6\n",
      "son menores 2017/10/5\n",
      "son menores 2016/11/10\n",
      "son menores 2017/10/2\n",
      "son menores 2017/05/9\n",
      "son menores 2017/03/8\n",
      "son menores 2017/09/5\n",
      "son menores 2019/06/7\n",
      "son menores 2018/12/4\n",
      "son menores 2017/03/7\n",
      "son menores 2016/11/8\n",
      "son menores 2018/05/2\n",
      "son menores 2018/03/8\n",
      "son menores 2017/06/8\n",
      "son menores 2017/03/10\n",
      "son iguales 2017/06/6\n",
      "son menores 2018/07/5\n",
      "son menores 2017/07/6\n",
      "son menores 2018/05/3\n",
      "son menores 2019/03/12\n",
      "son iguales 2017/05/5\n",
      "son iguales 2018/08/8\n",
      "son menores 2016/09/7\n",
      "son menores 2018/07/3\n",
      "son menores 2018/05/11\n",
      "son iguales 2017/10/10\n",
      "son menores 2017/07/10\n",
      "son menores 2017/12/5\n",
      "son menores 2018/10/3\n",
      "son menores 2018/04/12\n",
      "son menores 2017/10/11\n",
      "son menores 2017/05/10\n",
      "son menores 2018/05/10\n",
      "son menores 2017/12/11\n",
      "son menores 2018/06/1\n",
      "son menores 2018/05/8\n",
      "son menores 2017/04/7\n",
      "son menores 2017/12/7\n",
      "son menores 2017/02/6\n",
      "son menores 2018/10/11\n"
     ]
    }
   ],
   "source": [
    "import pandas as pd\n",
    "# Función para normalizar fechas (descarta las ambiguas)\n",
    "def normalizar_fecha_o_none(fecha):\n",
    "    if isinstance(fecha, str) and '/' in fecha:\n",
    "        partes = fecha.split('/')\n",
    "        if len(partes) == 3 and len(partes[0]) == 4:\n",
    "            anio, mes, dia = partes\n",
    "            if int(mes)==int(dia):\n",
    "                print(\"son iguales\", fecha)\n",
    "                return f\"{dia.zfill(2)}/{mes.zfill(2)}/{anio}\"\n",
    "            elif int(mes) <= 12 and int(dia) <= 12:\n",
    "                # Fecha ambigua, descartamos\n",
    "                print(\"son menores\", fecha)\n",
    "                \n",
    "                return f\"{dia.zfill(2)}/{mes.zfill(2)}/{anio}\"\n",
    "            elif int(mes) > 12 and int(dia) > 12:\n",
    "                print(\"son mayores\", fecha)\n",
    "                return None\n",
    "            else:\n",
    "                # Fecha no ambigua, normalizamos\n",
    "                return f\"{dia.zfill(2)}/{mes.zfill(2)}/{anio}\"\n",
    "                # return None\n",
    "        else:\n",
    "            return fecha\n",
    "\n",
    "# Aplicar la función\n",
    "df['fecha_de_beneficio'] = df['fecha_de_beneficio'].apply(normalizar_fecha_o_none)\n",
    "\n",
    "# Eliminar filas con fechas ambiguas (que ahora son None)\n",
    "df = df[df['fecha_de_beneficio'].notna()]\n",
    "\n"
   ]
  },
  {
   "cell_type": "code",
   "execution_count": 30,
   "id": "394e5517",
   "metadata": {},
   "outputs": [],
   "source": [
    "# Convertir la columna a tipo datetime\n",
    "# Convertir a datetime y forzar errores a NaT\n",
    "df['fecha_de_beneficio'] = pd.to_datetime(df['fecha_de_beneficio'], format='%d/%m/%Y', errors='coerce')\n",
    "\n",
    "# Eliminar filas donde la conversión falló (NaT)\n",
    "df = df[df['fecha_de_beneficio'].notna()]\n",
    "\n"
   ]
  },
  {
   "cell_type": "code",
   "execution_count": 31,
   "id": "605dd5ce",
   "metadata": {},
   "outputs": [
    {
     "data": {
      "text/plain": [
       "795"
      ]
     },
     "execution_count": 31,
     "metadata": {},
     "output_type": "execute_result"
    }
   ],
   "source": [
    "len(df.fecha_de_beneficio.value_counts().to_list())#795"
   ]
  },
  {
   "cell_type": "code",
   "execution_count": 32,
   "id": "0007f43d",
   "metadata": {},
   "outputs": [
    {
     "data": {
      "text/plain": [
       "np.int64(510)"
      ]
     },
     "execution_count": 32,
     "metadata": {},
     "output_type": "execute_result"
    }
   ],
   "source": [
    "df.duplicated().sum()"
   ]
  },
  {
   "cell_type": "code",
   "execution_count": 33,
   "id": "12b710dd",
   "metadata": {},
   "outputs": [],
   "source": [
    "df = df.drop_duplicates()"
   ]
  },
  {
   "cell_type": "code",
   "execution_count": 34,
   "id": "27a0adc5",
   "metadata": {},
   "outputs": [
    {
     "data": {
      "text/plain": [
       "[6617, 3589]"
      ]
     },
     "execution_count": 34,
     "metadata": {},
     "output_type": "execute_result"
    }
   ],
   "source": [
    "df.sexo.value_counts().to_list() ##[6617, 3589]"
   ]
  },
  {
   "cell_type": "code",
   "execution_count": 35,
   "id": "2f045c0b",
   "metadata": {},
   "outputs": [
    {
     "data": {
      "text/plain": [
       "[5636, 2205, 2201, 164]"
      ]
     },
     "execution_count": 35,
     "metadata": {},
     "output_type": "execute_result"
    }
   ],
   "source": [
    "df.tipo_de_emprendimiento.value_counts().to_list()"
   ]
  }
 ],
 "metadata": {
  "kernelspec": {
   "display_name": ".venv",
   "language": "python",
   "name": "python3"
  },
  "language_info": {
   "codemirror_mode": {
    "name": "ipython",
    "version": 3
   },
   "file_extension": ".py",
   "mimetype": "text/x-python",
   "name": "python",
   "nbconvert_exporter": "python",
   "pygments_lexer": "ipython3",
   "version": "3.12.7"
  }
 },
 "nbformat": 4,
 "nbformat_minor": 5
}
